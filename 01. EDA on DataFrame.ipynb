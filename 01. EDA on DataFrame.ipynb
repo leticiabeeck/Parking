{
 "cells": [
  {
   "cell_type": "code",
   "execution_count": 2,
   "metadata": {},
   "outputs": [],
   "source": [
    "\n",
    "import pandas as pd\n",
    "import numpy as np\n",
    "import matplotlib.pyplot as plt\n",
    "import seaborn as sns\n",
    "from haversine import haversine\n",
    "from sklearn.model_selection import train_test_split\n",
    "np.random.seed(42)\n",
    "import scipy.stats as stats\n",
    "import seaborn as sns\n",
    "import re\n",
    "from sklearn.preprocessing import StandardScaler\n",
    "from datetime import timedelta  \n",
    "\n",
    "\n",
    "from matplotlib import rcParams\n",
    "rcParams.update({'figure.autolayout':True})\n",
    "\n",
    "plt.style.use([\"presentation\"])\n",
    "\n",
    "%matplotlib inline"
   ]
  },
  {
   "cell_type": "code",
   "execution_count": 3,
   "metadata": {},
   "outputs": [],
   "source": [
    "df1=pd.read_pickle('./res_parking_permit_violations')"
   ]
  },
  {
   "cell_type": "code",
   "execution_count": 4,
   "metadata": {},
   "outputs": [],
   "source": [
    "df2=pd.read_csv('./Residential_Parking_Permit_Blocks.csv')"
   ]
  },
  {
   "cell_type": "code",
   "execution_count": 5,
   "metadata": {},
   "outputs": [
    {
     "data": {
      "text/plain": [
       "Index(['X', 'Y', 'OBJECTID', 'SERVICECODE', 'SERVICECODEDESCRIPTION',\n",
       "       'SERVICETYPECODEDESCRIPTION', 'ORGANIZATIONACRONYM', 'SERVICECALLCOUNT',\n",
       "       'ADDDATE', 'RESOLUTIONDATE', 'SERVICEDUEDATE', 'SERVICEORDERDATE',\n",
       "       'INSPECTIONFLAG', 'INSPECTIONDATE', 'INSPECTORNAME',\n",
       "       'SERVICEORDERSTATUS', 'STATUS_CODE', 'SERVICEREQUESTID', 'PRIORITY',\n",
       "       'STREETADDRESS', 'XCOORD', 'YCOORD', 'LATITUDE', 'LONGITUDE', 'CITY',\n",
       "       'STATE', 'ZIPCODE', 'MARADDRESSREPOSITORYID', 'WARD', 'DETAILS'],\n",
       "      dtype='object')"
      ]
     },
     "execution_count": 5,
     "metadata": {},
     "output_type": "execute_result"
    }
   ],
   "source": [
    "df1.columns"
   ]
  },
  {
   "cell_type": "code",
   "execution_count": 6,
   "metadata": {},
   "outputs": [],
   "source": [
    "features=['OBJECTID', 'SERVICECODEDESCRIPTION', 'ADDDATE', 'RESOLUTIONDATE', 'STREETADDRESS',\n",
    "          'LATITUDE', 'LONGITUDE', 'ZIPCODE', 'WARD', 'DETAILS']"
   ]
  },
  {
   "cell_type": "code",
   "execution_count": 7,
   "metadata": {},
   "outputs": [],
   "source": [
    "# Creating a smaller version of the dataframe with just the features that might be useful\n",
    "\n",
    "df_short=df1[features]\n",
    "df_short = df_short.copy()"
   ]
  },
  {
   "cell_type": "code",
   "execution_count": 8,
   "metadata": {},
   "outputs": [],
   "source": [
    "# Converting dates to Pandas Date-Time Format\n",
    "\n",
    "df_short['ADDDATE']=df_short['ADDDATE'].map(pd.to_datetime)\n",
    "df_short['RESOLUTIONDATE']=df_short['RESOLUTIONDATE'].map(pd.to_datetime)\n"
   ]
  },
  {
   "cell_type": "code",
   "execution_count": 9,
   "metadata": {},
   "outputs": [],
   "source": [
    "df_short['day_of_week']=df_short['ADDDATE'].map(lambda x : x.weekday_name)"
   ]
  },
  {
   "cell_type": "code",
   "execution_count": 10,
   "metadata": {},
   "outputs": [
    {
     "data": {
      "text/plain": [
       "Friday       5982\n",
       "Thursday     5830\n",
       "Wednesday    5809\n",
       "Tuesday      5643\n",
       "Monday       4954\n",
       "Saturday     1392\n",
       "Sunday        197\n",
       "Name: day_of_week, dtype: int64"
      ]
     },
     "execution_count": 10,
     "metadata": {},
     "output_type": "execute_result"
    }
   ],
   "source": [
    "df_short['day_of_week'].value_counts()"
   ]
  },
  {
   "cell_type": "code",
   "execution_count": 11,
   "metadata": {},
   "outputs": [],
   "source": [
    "# Month parking violation occurred\n",
    "\n",
    "df_short['month']=df_short['ADDDATE'].map(lambda x : x.month)"
   ]
  },
  {
   "cell_type": "code",
   "execution_count": 12,
   "metadata": {},
   "outputs": [],
   "source": [
    "# Time in minutes to resolve complaint\n",
    "\n",
    "df_short['resolvetime']=(df_short['RESOLUTIONDATE']-df_short['ADDDATE']).astype('timedelta64[m]')"
   ]
  },
  {
   "cell_type": "code",
   "execution_count": 14,
   "metadata": {},
   "outputs": [],
   "source": [
    "df_short.to_csv('./shorter.csv')"
   ]
  },
  {
   "cell_type": "code",
   "execution_count": 54,
   "metadata": {},
   "outputs": [
    {
     "name": "stderr",
     "output_type": "stream",
     "text": [
      "/anaconda3/envs/dsi/lib/python3.6/site-packages/numpy/core/fromnumeric.py:2957: RuntimeWarning: Mean of empty slice.\n",
      "  out=out, **kwargs)\n"
     ]
    }
   ],
   "source": [
    "# Code from Ben\n",
    "\n",
    "\n",
    "\n",
    "import re\n",
    "\n",
    "def get_address_block(address):\n",
    "    try:\n",
    "        m = re.findall('(\\d+\\s)', address)\n",
    "        return(np.mean([float(x.strip()) for x in m]))\n",
    "    except:\n",
    "        return(np.nan)\n",
    "\n",
    "df_short['BLOCKNUM']=df_short['STREETADDRESS'].apply(get_address_block)\n",
    "\n",
    "def round_address_block(address):\n",
    "    try:\n",
    "        address=address/100\n",
    "        address=np.round(address,0)\n",
    "        address=int(address*100)\n",
    "        return address\n",
    "    except:\n",
    "        return(np.nan)\n",
    "\n",
    "df_short['BLOCKNUM']=df_short['BLOCKNUM'].map(round_address_block)"
   ]
  },
  {
   "cell_type": "code",
   "execution_count": 65,
   "metadata": {},
   "outputs": [
    {
     "data": {
      "text/plain": [
       "58                       7436 GEORGIA AVENUE NW\n",
       "149                          5617 8TH STREET NW\n",
       "227                    1200 - 1299  D STREET NE\n",
       "283                         1619 LYMAN PLACE NE\n",
       "445                      2716 CENTRAL AVENUE NE\n",
       "489                         1619 LYMAN PLACE NE\n",
       "656           1200 - 1299  LONGFELLOW STREET NW\n",
       "683                    1500 - 1599  W STREET NE\n",
       "723                 3100 - 3199  14TH STREET NE\n",
       "725               1400 - 1499  IRVING STREET NE\n",
       "728              4600 - 4699  QUARLES STREET NE\n",
       "731                 4600 - 4615  POLK STREET NE\n",
       "748                            20 46TH PLACE NE\n",
       "798                    1700 - 1780  U STREET NW\n",
       "871                       235 EMERSON STREET NW\n",
       "997                          4831 BASS PLACE SE\n",
       "1093             1400 - 1499  FLORIDA AVENUE NW\n",
       "1118      4933 NANNIE HELEN BURROUGHS AVENUE NE\n",
       "1137                      2827 NEWTON STREET NE\n",
       "1145                        3205 POPE STREET SE\n",
       "1155                        2919 10TH STREET NE\n",
       "1163                         929 19TH STREET NE\n",
       "1264                  1414 CRITTENDEN STREET NW\n",
       "1266                                        NaN\n",
       "1284                 1419 RITTENHOUSE STREET NW\n",
       "1291                   1385 NICHOLSON STREET NW\n",
       "1392                        4521 CLARK PLACE NW\n",
       "1517         4600  - 4699  PINEY BRANCH ROAD NW\n",
       "1638                          118 48TH PLACE NE\n",
       "1681                 5300 - 5399  JAY STREET NE\n",
       "                          ...                  \n",
       "319818                         1911 P STREET SE\n",
       "319881                        222 3RD STREET NE\n",
       "319946                       48 QUINCY PLACE NE\n",
       "320045         3100 - 3199  CATHEDRAL AVENUE NW\n",
       "320067                 1500 - 1599  W STREET NE\n",
       "320163                    1013 UPSHUR STREET NE\n",
       "320274                       154 13TH STREET SE\n",
       "320295                    1664 KRAMER STREET NE\n",
       "320314                1420 CRITTENDEN STREET NW\n",
       "320318                       2815 6TH STREET NE\n",
       "320437                        224 3RD STREET NE\n",
       "320575                        224 3RD STREET SE\n",
       "320607                        224 3RD STREET NE\n",
       "320695                    1626 KRAMER STREET NE\n",
       "320706                    1650 KRAMER STREET NE\n",
       "320721                        837 4TH STREET NE\n",
       "320787                4925 BUTTERWORTH PLACE NW\n",
       "320867                        224 3RD STREET SE\n",
       "320916                       2815 6TH STREET NE\n",
       "320935                          922 G STREET SE\n",
       "321040                      3120 10TH STREET NE\n",
       "321057                       2358 13TH PLACE NE\n",
       "321077                         1111 W STREET NW\n",
       "321132                     1650 PORTAL DRIVE NW\n",
       "321148                       5738 5TH STREET NE\n",
       "321152                        219 3RD STREET NE\n",
       "321161                    1650 KRAMER STREET NE\n",
       "321174                    1638 KRAMER STREET NE\n",
       "321216                         1233 E STREET SE\n",
       "321222                          711 F STREET NE\n",
       "Name: STREETADDRESS, Length: 29807, dtype: object"
      ]
     },
     "execution_count": 65,
     "metadata": {},
     "output_type": "execute_result"
    }
   ],
   "source": [
    "def get_street_name(address):\n",
    "    try:\n",
    "        m=address.replace(\"BLOCK OF\",\"\")\n",
    "        return m\n",
    "    except:\n",
    "        return (np.nan)\n",
    "\n",
    "df_short['STREETADDRESS'].apply(get_street_name)"
   ]
  },
  {
   "cell_type": "code",
   "execution_count": null,
   "metadata": {},
   "outputs": [],
   "source": []
  }
 ],
 "metadata": {
  "kernelspec": {
   "display_name": "Python 3",
   "language": "python",
   "name": "python3"
  },
  "language_info": {
   "codemirror_mode": {
    "name": "ipython",
    "version": 3
   },
   "file_extension": ".py",
   "mimetype": "text/x-python",
   "name": "python",
   "nbconvert_exporter": "python",
   "pygments_lexer": "ipython3",
   "version": "3.6.5"
  }
 },
 "nbformat": 4,
 "nbformat_minor": 2
}
