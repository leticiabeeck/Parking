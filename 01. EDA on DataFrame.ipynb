{
 "cells": [
  {
   "cell_type": "code",
   "execution_count": 2,
   "metadata": {},
   "outputs": [],
   "source": [
    "\n",
    "import pandas as pd\n",
    "import numpy as np\n",
    "import matplotlib.pyplot as plt\n",
    "import seaborn as sns\n",
    "from haversine import haversine\n",
    "from sklearn.model_selection import train_test_split\n",
    "np.random.seed(42)\n",
    "import scipy.stats as stats\n",
    "import seaborn as sns\n",
    "import re\n",
    "from sklearn.preprocessing import StandardScaler\n",
    "from datetime import timedelta  \n",
    "\n",
    "\n",
    "from matplotlib import rcParams\n",
    "rcParams.update({'figure.autolayout':True})\n",
    "\n",
    "plt.style.use([\"presentation\"])\n",
    "\n",
    "%matplotlib inline"
   ]
  },
  {
   "cell_type": "code",
   "execution_count": 3,
   "metadata": {},
   "outputs": [],
   "source": [
    "df1=pd.read_pickle('./res_parking_permit_violations')"
   ]
  },
  {
   "cell_type": "code",
   "execution_count": 4,
   "metadata": {},
   "outputs": [],
   "source": [
    "df2=pd.read_csv('./Residential_Parking_Permit_Blocks.csv')"
   ]
  },
  {
   "cell_type": "code",
   "execution_count": 5,
   "metadata": {},
   "outputs": [
    {
     "data": {
      "text/plain": [
       "Index(['X', 'Y', 'OBJECTID', 'SERVICECODE', 'SERVICECODEDESCRIPTION',\n",
       "       'SERVICETYPECODEDESCRIPTION', 'ORGANIZATIONACRONYM', 'SERVICECALLCOUNT',\n",
       "       'ADDDATE', 'RESOLUTIONDATE', 'SERVICEDUEDATE', 'SERVICEORDERDATE',\n",
       "       'INSPECTIONFLAG', 'INSPECTIONDATE', 'INSPECTORNAME',\n",
       "       'SERVICEORDERSTATUS', 'STATUS_CODE', 'SERVICEREQUESTID', 'PRIORITY',\n",
       "       'STREETADDRESS', 'XCOORD', 'YCOORD', 'LATITUDE', 'LONGITUDE', 'CITY',\n",
       "       'STATE', 'ZIPCODE', 'MARADDRESSREPOSITORYID', 'WARD', 'DETAILS'],\n",
       "      dtype='object')"
      ]
     },
     "execution_count": 5,
     "metadata": {},
     "output_type": "execute_result"
    }
   ],
   "source": [
    "df1.columns"
   ]
  },
  {
   "cell_type": "code",
   "execution_count": 6,
   "metadata": {},
   "outputs": [],
   "source": [
    "features=['OBJECTID', 'SERVICECODEDESCRIPTION', 'ADDDATE', 'RESOLUTIONDATE', 'STREETADDRESS',\n",
    "          'LATITUDE', 'LONGITUDE', 'ZIPCODE', 'WARD', 'DETAILS']"
   ]
  },
  {
   "cell_type": "code",
   "execution_count": 7,
   "metadata": {},
   "outputs": [],
   "source": [
    "# Creating a smaller version of the dataframe with just the features that might be useful\n",
    "\n",
    "df_short=df1[features]\n",
    "df_short = df_short.copy()"
   ]
  },
  {
   "cell_type": "code",
   "execution_count": 8,
   "metadata": {},
   "outputs": [],
   "source": [
    "# Converting dates to Pandas Date-Time Format\n",
    "\n",
    "df_short['ADDDATE']=df_short['ADDDATE'].map(pd.to_datetime)\n",
    "df_short['RESOLUTIONDATE']=df_short['RESOLUTIONDATE'].map(pd.to_datetime)\n"
   ]
  },
  {
   "cell_type": "code",
   "execution_count": 9,
   "metadata": {},
   "outputs": [],
   "source": [
    "df_short['day_of_week']=df_short['ADDDATE'].map(lambda x : x.weekday_name)"
   ]
  },
  {
   "cell_type": "code",
   "execution_count": 10,
   "metadata": {},
   "outputs": [
    {
     "data": {
      "text/plain": [
       "Friday       5982\n",
       "Thursday     5830\n",
       "Wednesday    5809\n",
       "Tuesday      5643\n",
       "Monday       4954\n",
       "Saturday     1392\n",
       "Sunday        197\n",
       "Name: day_of_week, dtype: int64"
      ]
     },
     "execution_count": 10,
     "metadata": {},
     "output_type": "execute_result"
    }
   ],
   "source": [
    "df_short['day_of_week'].value_counts()"
   ]
  },
  {
   "cell_type": "code",
   "execution_count": 11,
   "metadata": {},
   "outputs": [],
   "source": [
    "# Month parking violation occurred\n",
    "\n",
    "df_short['month']=df_short['ADDDATE'].map(lambda x : x.month)"
   ]
  },
  {
   "cell_type": "code",
   "execution_count": 12,
   "metadata": {},
   "outputs": [],
   "source": [
    "# Time in minutes to resolve complaint\n",
    "\n",
    "df_short['resolvetime']=(df_short['RESOLUTIONDATE']-df_short['ADDDATE']).astype('timedelta64[m]')"
   ]
  },
  {
   "cell_type": "code",
   "execution_count": 14,
   "metadata": {},
   "outputs": [],
   "source": [
    "df_short.to_csv('./shorter.csv')"
   ]
  },
  {
   "cell_type": "code",
   "execution_count": 54,
   "metadata": {},
   "outputs": [
    {
     "name": "stderr",
     "output_type": "stream",
     "text": [
      "/anaconda3/envs/dsi/lib/python3.6/site-packages/numpy/core/fromnumeric.py:2957: RuntimeWarning: Mean of empty slice.\n",
      "  out=out, **kwargs)\n"
     ]
    }
   ],
   "source": [
    "# Code from Ben\n",
    "\n",
    "\n",
    "\n",
    "import re\n",
    "\n",
    "def get_address_block(address):\n",
    "    try:\n",
    "        m = re.findall('(\\d+\\s)', address)\n",
    "        return(np.mean([float(x.strip()) for x in m]))\n",
    "    except:\n",
    "        return(np.nan)\n",
    "\n",
    "df_short['BLOCKNUM']=df_short['STREETADDRESS'].apply(get_address_block)\n",
    "\n",
    "# Code from Ben ends here\n",
    "\n",
    "def round_address_block(address):\n",
    "    try:\n",
    "        address=address/100\n",
    "        address=np.round(address,0)\n",
    "        address=int(address*100)\n",
    "        return address\n",
    "    except:\n",
    "        return(np.nan)\n",
    "\n",
    "df_short['BLOCKNUM']=df_short['BLOCKNUM'].map(round_address_block)"
   ]
  },
  {
   "cell_type": "code",
   "execution_count": 68,
   "metadata": {},
   "outputs": [],
   "source": [
    "def get_street_name(address):\n",
    "    try:\n",
    "        m1=address.replace(\"BLOCK OF\",\"\")\n",
    "        m2=re.findall('([0-9]+[TH|ST]+|[A-Z]+)', m1)\n",
    "        return \" \".join(m2)\n",
    "    except:\n",
    "        return (np.nan)\n",
    "\n",
    "df_short['STREET']=df_short['STREETADDRESS'].apply(get_street_name)"
   ]
  },
  {
   "cell_type": "code",
   "execution_count": 78,
   "metadata": {},
   "outputs": [],
   "source": [
    "df_short=df_short.dropna(subset=['BLOCKNUM', 'STREET'])"
   ]
  },
  {
   "cell_type": "code",
   "execution_count": 81,
   "metadata": {},
   "outputs": [],
   "source": [
    "df_short=df_short.copy()"
   ]
  },
  {
   "cell_type": "code",
   "execution_count": 82,
   "metadata": {},
   "outputs": [],
   "source": [
    "df_short['GEOBIN']=df_short['BLOCKNUM'].apply(lambda x: str(int(x)))"
   ]
  },
  {
   "cell_type": "code",
   "execution_count": 89,
   "metadata": {},
   "outputs": [],
   "source": [
    "df_short['GEOBIN']=df_short['GEOBIN'].apply(lambda x: x+ \" BLOCK \")"
   ]
  },
  {
   "cell_type": "code",
   "execution_count": 93,
   "metadata": {},
   "outputs": [],
   "source": [
    "df_short['BLOCK']=df_short['GEOBIN']+df_short['STREET']"
   ]
  },
  {
   "cell_type": "code",
   "execution_count": 94,
   "metadata": {},
   "outputs": [
    {
     "data": {
      "text/plain": [
       "1400 BLOCK CRITTENDEN STREET NW       475\n",
       "200 BLOCK RD STREET NE                437\n",
       "1600 BLOCK KRAMER STREET NE           364\n",
       "1200 BLOCK U STREET SE                315\n",
       "0 BLOCK BATES STREET NW               277\n",
       "1300 BLOCK I STREET NE                269\n",
       "1500 BLOCK OLIVE STREET NE            252\n",
       "4500 BLOCK CLARK PLACE NW             240\n",
       "600 BLOCK 24TH STREET NE              224\n",
       "6200 BLOCK ND STREET NW               205\n",
       "900 BLOCK 6TH STREET NE               198\n",
       "2200 BLOCK KEARNY STREET NE           193\n",
       "500 BLOCK 24TH STREET NE              186\n",
       "500 BLOCK E STREET NE                 164\n",
       "2000 BLOCK 4TH STREET NE              155\n",
       "500 BLOCK 5TH STREET NE               151\n",
       "1200 BLOCK D STREET SE                150\n",
       "0 BLOCK N STREET SW                   147\n",
       "5300 BLOCK DANA PLACE NW              145\n",
       "1400 BLOCK KENNEDY STREET NW          144\n",
       "600 BLOCK 14TH STREET NE              127\n",
       "100 BLOCK THOMAS STREET NW            126\n",
       "900 BLOCK VARNUM STREET NE            126\n",
       "1400 BLOCK HALF STREET SW             125\n",
       "1600 BLOCK OLIVE STREET NE            119\n",
       "1700 BLOCK NEW HAMPSHIRE AVENUE NW    113\n",
       "1100 BLOCK W STREET NW                111\n",
       "600 BLOCK M STREET NE                 111\n",
       "1100 BLOCK I STREET NE                111\n",
       "600 BLOCK G STREET NE                 108\n",
       "                                     ... \n",
       "2200 BLOCK R STREET NW                  1\n",
       "900 BLOCK MADISON STREET NW             1\n",
       "4200 BLOCK ALBEMARLE STREET NW          1\n",
       "3400 BLOCK 21ST STREET SE               1\n",
       "3300 BLOCK FORT LINCOLN DRIVE NE        1\n",
       "9200 BLOCK CHERRY LANE                  1\n",
       "2900 BLOCK R STREET SE                  1\n",
       "3900 BLOCK C STREET SE                  1\n",
       "1100 BLOCK 21ST STREET NE               1\n",
       "300 BLOCK E STREET SW                   1\n",
       "1800 BLOCK 35TH STREET NW               1\n",
       "1400 BLOCK HALF ST SW                   1\n",
       "1800 BLOCK MARYLAND AVENUE NE           1\n",
       "4200 BLOCK FOOTE STREET NE              1\n",
       "2500 BLOCK FAIRLAWN AVENUE SE           1\n",
       "3800 BLOCK SUITLAND ROAD SE             1\n",
       "4500 BLOCK WESTHALL DRIVE NW            1\n",
       "8000 BLOCK 13TH STREET NW               1\n",
       "600 BLOCK 13TH STREET NW                1\n",
       "100 BLOCK UHLAND TERRACE NE             1\n",
       "3500 BLOCK 10TH STREET NW               1\n",
       "300 BLOCK 7TH STREET SE                 1\n",
       "4500 BLOCK HUNT PLACE NE                1\n",
       "1600 BLOCK WISCONSIN AVENUE NW          1\n",
       "1900 BLOCK RD STREET SE                 1\n",
       "1800 BLOCK VALLEY TERRACE SE            1\n",
       "1800 BLOCK 18TH STREET NW               1\n",
       "4600 BLOCK Q PLACE NW                   1\n",
       "1500 BLOCK 11TH STREET NW               1\n",
       "2700 BLOCK WADE ROAD SE                 1\n",
       "Name: BLOCK, Length: 3822, dtype: int64"
      ]
     },
     "execution_count": 94,
     "metadata": {},
     "output_type": "execute_result"
    }
   ],
   "source": [
    "# Here's the list of the blocks and the number of citations issued\n",
    "\n",
    "df_short['BLOCK'].value_counts()"
   ]
  },
  {
   "cell_type": "code",
   "execution_count": 106,
   "metadata": {},
   "outputs": [
    {
     "data": {
      "text/plain": [
       "1500 BLOCK SWANN STREET NW             13\n",
       "100 BLOCK SEATON PLACE NW               7\n",
       "1400 BLOCK SWANN STREET NW              6\n",
       "1600 BLOCK 11TH STREET NW               6\n",
       "1200 BLOCK E STREET SE                  6\n",
       "900 BLOCK T STREET NW                   6\n",
       "1100 BLOCK W STREET NW                  5\n",
       "1700 BLOCK 9TH STREET NW                4\n",
       "1500 BLOCK MARION STREET NW             3\n",
       "1300 BLOCK R STREET NW                  3\n",
       "1400 BLOCK HALF STREET SW               3\n",
       "1500 BLOCK QUEEN STREET NE              2\n",
       "1500 BLOCK S STREET SE                  2\n",
       "200 BLOCK RD STREET NE                  2\n",
       "1500 BLOCK 1ST STREET SW                2\n",
       "3200 BLOCK 13TH STREET NW               2\n",
       "5100 BLOCK SOUTHERN AVENUE SE           2\n",
       "1000 BLOCK GIRARD STREET NW             2\n",
       "1300 BLOCK SIMMS PLACE NE               2\n",
       "900 BLOCK 7TH STREET SW                 2\n",
       "900 BLOCK O STREET NW                   2\n",
       "1300 BLOCK DELAFIELD PLACE NW           2\n",
       "1300 BLOCK Q STREET NW                  2\n",
       "700 BLOCK 7TH STREET SW                 2\n",
       "900 BLOCK P STREET NW                   2\n",
       "1600 BLOCK 6TH STREET NW                1\n",
       "3900 BLOCK 7TH STREET NE                1\n",
       "2200 BLOCK T PLACE SE                   1\n",
       "800 BLOCK 50TH PLACE NE                 1\n",
       "2600 BLOCK QUEENS CHAPEL ROAD NE        1\n",
       "                                       ..\n",
       "2900 BLOCK YOST PLACE NE                1\n",
       "1200 BLOCK E STREET                     1\n",
       "4300 BLOCK 14TH STREET NW               1\n",
       "1100 BLOCK 6TH STREET SW                1\n",
       "2800 BLOCK 6TH STREET NE                1\n",
       "1700 BLOCK WEST VIRGINIA AVENUE NE      1\n",
       "400 BLOCK RICHARDSON PLACE NW           1\n",
       "400 BLOCK U STREET NW                   1\n",
       "5700 BLOCK 5TH STREET NE                1\n",
       "700 BLOCK KENTUCKY AVENUE SE            1\n",
       "1700 BLOCK 7TH STREET NW                1\n",
       "400 BLOCK W STREET NE                   1\n",
       "5000 BLOCK 13TH STREET NE               1\n",
       "900 BLOCK A STREET SE                   1\n",
       "300 BLOCK 9TH STREET NE                 1\n",
       "1400 BLOCK S STREET SE                  1\n",
       "1800 BLOCK 1ST STREET NW                1\n",
       "800 BLOCK YUMA STREET SE                1\n",
       "4500 BLOCK MACARTHUR BOULEVARD NW       1\n",
       "0 BLOCK P STREET SW                     1\n",
       "1500 BLOCK 41ST STREET SE               1\n",
       "500 BLOCK OKLAHOMA AVENUE NE            1\n",
       "4800 BLOCK DEXTER TERRACE NW            1\n",
       "300 BLOCK ROCK CREEK CHURCH ROAD NW     1\n",
       "1300 BLOCK W STREET NW                  1\n",
       "1200 BLOCK N STREET NW                  1\n",
       "4900 BLOCK NASH STREET NE               1\n",
       "700 BLOCK GRESHAM PLACE NW              1\n",
       "600 BLOCK 4TH STREET SW                 1\n",
       "1900 BLOCK SUMMIT PLACE NE              1\n",
       "Name: BLOCK, Length: 129, dtype: int64"
      ]
     },
     "execution_count": 106,
     "metadata": {},
     "output_type": "execute_result"
    }
   ],
   "source": [
    "# Here, for example, is a count of citations on Sunday, by contrast\n",
    "\n",
    "df_short.loc[df_short['day_of_week']=='Sunday']['BLOCK'].value_counts()"
   ]
  },
  {
   "cell_type": "code",
   "execution_count": null,
   "metadata": {},
   "outputs": [],
   "source": []
  },
  {
   "cell_type": "code",
   "execution_count": null,
   "metadata": {},
   "outputs": [],
   "source": []
  }
 ],
 "metadata": {
  "kernelspec": {
   "display_name": "Python 3",
   "language": "python",
   "name": "python3"
  },
  "language_info": {
   "codemirror_mode": {
    "name": "ipython",
    "version": 3
   },
   "file_extension": ".py",
   "mimetype": "text/x-python",
   "name": "python",
   "nbconvert_exporter": "python",
   "pygments_lexer": "ipython3",
   "version": "3.6.5"
  }
 },
 "nbformat": 4,
 "nbformat_minor": 2
}
