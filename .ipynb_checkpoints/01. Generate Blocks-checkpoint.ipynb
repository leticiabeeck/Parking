{
 "cells": [
  {
   "cell_type": "code",
   "execution_count": 150,
   "metadata": {},
   "outputs": [],
   "source": [
    "\n",
    "import pandas as pd\n",
    "import numpy as np\n",
    "import matplotlib.pyplot as plt\n",
    "import seaborn as sns\n",
    "from haversine import haversine\n",
    "from sklearn.model_selection import train_test_split\n",
    "np.random.seed(42)\n",
    "import scipy.stats as stats\n",
    "import seaborn as sns\n",
    "import re\n",
    "from sklearn.preprocessing import StandardScaler\n",
    "from datetime import timedelta  \n",
    "from pandas.tseries.holiday import USFederalHolidayCalendar as calendar\n",
    "\n",
    "from matplotlib import rcParams\n",
    "rcParams.update({'figure.autolayout':True})\n",
    "\n",
    "plt.style.use([\"presentation\"])\n",
    "\n",
    "%matplotlib inline"
   ]
  },
  {
   "cell_type": "code",
   "execution_count": 151,
   "metadata": {},
   "outputs": [],
   "source": [
    "df1=pd.read_pickle('./res_parking_permit_violations')"
   ]
  },
  {
   "cell_type": "code",
   "execution_count": 152,
   "metadata": {},
   "outputs": [],
   "source": [
    "df2=pd.read_csv('./Residential_Parking_Permit_Blocks.csv')"
   ]
  },
  {
   "cell_type": "code",
   "execution_count": 153,
   "metadata": {},
   "outputs": [],
   "source": [
    "features=['OBJECTID', 'SERVICECODEDESCRIPTION', 'ADDDATE', 'RESOLUTIONDATE', 'STREETADDRESS',\n",
    "          'LATITUDE', 'LONGITUDE', 'ZIPCODE', 'WARD', 'DETAILS']"
   ]
  },
  {
   "cell_type": "code",
   "execution_count": 154,
   "metadata": {},
   "outputs": [],
   "source": [
    "# Creating a smaller version of the dataframe with just the features that might be useful\n",
    "\n",
    "df_short=df1[features]\n",
    "df_short = df_short.copy()"
   ]
  },
  {
   "cell_type": "markdown",
   "metadata": {},
   "source": [
    "# A. Create some initial date-related features"
   ]
  },
  {
   "cell_type": "code",
   "execution_count": 155,
   "metadata": {},
   "outputs": [],
   "source": [
    "# Converting dates to Pandas Date-Time Format\n",
    "\n",
    "df_short['ADDDATE']=df_short['ADDDATE'].map(pd.to_datetime)\n",
    "df_short['RESOLUTIONDATE']=df_short['RESOLUTIONDATE'].map(pd.to_datetime)\n"
   ]
  },
  {
   "cell_type": "code",
   "execution_count": 156,
   "metadata": {},
   "outputs": [],
   "source": [
    "trial=df_short['ADDDATE'][58]"
   ]
  },
  {
   "cell_type": "code",
   "execution_count": 157,
   "metadata": {},
   "outputs": [
    {
     "data": {
      "text/plain": [
       "<function Timestamp.date>"
      ]
     },
     "execution_count": 157,
     "metadata": {},
     "output_type": "execute_result"
    }
   ],
   "source": [
    "trial.date"
   ]
  },
  {
   "cell_type": "code",
   "execution_count": 158,
   "metadata": {},
   "outputs": [],
   "source": [
    "# Date ticket issued\n",
    "\n",
    "df_short['date']=df_short['ADDDATE'].map(lambda x : x.date)"
   ]
  },
  {
   "cell_type": "code",
   "execution_count": 159,
   "metadata": {},
   "outputs": [],
   "source": [
    "# Day of week ticket issued\n",
    "\n",
    "df_short['day_of_week']=df_short['ADDDATE'].map(lambda x : x.weekday_name)"
   ]
  },
  {
   "cell_type": "code",
   "execution_count": 160,
   "metadata": {},
   "outputs": [],
   "source": [
    "# Year ticket issued\n",
    "\n",
    "df_short['year']=df_short['ADDDATE'].map(lambda x : x.year)"
   ]
  },
  {
   "cell_type": "code",
   "execution_count": 161,
   "metadata": {},
   "outputs": [],
   "source": [
    "# Month parking violation occurred\n",
    "\n",
    "df_short['month']=df_short['ADDDATE'].map(lambda x : x.month)"
   ]
  },
  {
   "cell_type": "code",
   "execution_count": 162,
   "metadata": {},
   "outputs": [],
   "source": [
    "# Time in minutes to resolve complaint\n",
    "\n",
    "df_short['resolvetime']=(df_short['RESOLUTIONDATE']-df_short['ADDDATE']).astype('timedelta64[m]')"
   ]
  },
  {
   "cell_type": "code",
   "execution_count": null,
   "metadata": {},
   "outputs": [],
   "source": []
  },
  {
   "cell_type": "markdown",
   "metadata": {},
   "source": [
    "# B. Bin observations by block"
   ]
  },
  {
   "cell_type": "code",
   "execution_count": 163,
   "metadata": {},
   "outputs": [
    {
     "name": "stderr",
     "output_type": "stream",
     "text": [
      "/anaconda3/envs/dsi/lib/python3.6/site-packages/numpy/core/fromnumeric.py:2957: RuntimeWarning: Mean of empty slice.\n",
      "  out=out, **kwargs)\n"
     ]
    }
   ],
   "source": [
    "# Code from Ben\n",
    "\n",
    "\n",
    "\n",
    "import re\n",
    "\n",
    "def get_address_block(address):\n",
    "    try:\n",
    "        m = re.findall('(\\d+\\s)', address)\n",
    "        return(np.mean([float(x.strip()) for x in m]))\n",
    "    except:\n",
    "        return(np.nan)\n",
    "\n",
    "df_short['BLOCKNUM']=df_short['STREETADDRESS'].apply(get_address_block)\n",
    "\n",
    "# Code from Ben ends here\n",
    "\n",
    "def round_address_block(address):\n",
    "    try:\n",
    "        address=address/100\n",
    "        address=np.round(address,0)\n",
    "        address=int(address*100)\n",
    "        return address\n",
    "    except:\n",
    "        return(np.nan)\n",
    "\n",
    "df_short['BLOCKNUM']=df_short['BLOCKNUM'].map(round_address_block)"
   ]
  },
  {
   "cell_type": "code",
   "execution_count": 164,
   "metadata": {},
   "outputs": [],
   "source": [
    "def get_street_name(address):\n",
    "    try:\n",
    "        m1=address.replace(\"BLOCK OF\",\"\")\n",
    "        m2=re.findall('([0-9]+[TH|ST|RD]+|[A-Z]+)', m1)\n",
    "        return \" \".join(m2)\n",
    "    except:\n",
    "        return (np.nan)\n",
    "\n",
    "df_short['STREET']=df_short['STREETADDRESS'].apply(get_street_name)"
   ]
  },
  {
   "cell_type": "code",
   "execution_count": 165,
   "metadata": {},
   "outputs": [],
   "source": [
    "df_short=df_short.dropna(subset=['BLOCKNUM', 'STREET'])"
   ]
  },
  {
   "cell_type": "code",
   "execution_count": 166,
   "metadata": {},
   "outputs": [],
   "source": [
    "df_short=df_short.copy()"
   ]
  },
  {
   "cell_type": "code",
   "execution_count": 167,
   "metadata": {},
   "outputs": [],
   "source": [
    "df_short['GEOBIN']=df_short['BLOCKNUM'].apply(lambda x: str(int(x)))"
   ]
  },
  {
   "cell_type": "code",
   "execution_count": 168,
   "metadata": {},
   "outputs": [],
   "source": [
    "df_short['GEOBIN']=df_short['GEOBIN'].apply(lambda x: x+ \" BLOCK \")"
   ]
  },
  {
   "cell_type": "code",
   "execution_count": 169,
   "metadata": {},
   "outputs": [],
   "source": [
    "df_short['BLOCK']=df_short['GEOBIN']+df_short['STREET']"
   ]
  },
  {
   "cell_type": "markdown",
   "metadata": {},
   "source": [
    "# C. A few observations about the blocks"
   ]
  },
  {
   "cell_type": "code",
   "execution_count": 170,
   "metadata": {},
   "outputs": [
    {
     "data": {
      "text/plain": [
       "1400 BLOCK CRITTENDEN STREET NW       0.016447\n",
       "200 BLOCK 3RD STREET NE               0.015131\n",
       "1600 BLOCK KRAMER STREET NE           0.012603\n",
       "1200 BLOCK U STREET SE                0.010907\n",
       "0 BLOCK BATES STREET NW               0.009591\n",
       "1300 BLOCK I STREET NE                0.009314\n",
       "1500 BLOCK OLIVE STREET NE            0.008725\n",
       "4500 BLOCK CLARK PLACE NW             0.008310\n",
       "600 BLOCK 24TH STREET NE              0.007756\n",
       "6200 BLOCK ND STREET NW               0.007098\n",
       "900 BLOCK 6TH STREET NE               0.006856\n",
       "2200 BLOCK KEARNY STREET NE           0.006683\n",
       "500 BLOCK 24TH STREET NE              0.006440\n",
       "500 BLOCK E STREET NE                 0.005678\n",
       "2000 BLOCK 4TH STREET NE              0.005367\n",
       "500 BLOCK 5TH STREET NE               0.005228\n",
       "1200 BLOCK D STREET SE                0.005194\n",
       "0 BLOCK N STREET SW                   0.005090\n",
       "5300 BLOCK DANA PLACE NW              0.005021\n",
       "1400 BLOCK KENNEDY STREET NW          0.004986\n",
       "600 BLOCK 14TH STREET NE              0.004397\n",
       "900 BLOCK VARNUM STREET NE            0.004363\n",
       "100 BLOCK THOMAS STREET NW            0.004363\n",
       "1400 BLOCK HALF STREET SW             0.004328\n",
       "1600 BLOCK OLIVE STREET NE            0.004120\n",
       "1700 BLOCK NEW HAMPSHIRE AVENUE NW    0.003913\n",
       "1100 BLOCK W STREET NW                0.003843\n",
       "1100 BLOCK I STREET NE                0.003843\n",
       "600 BLOCK M STREET NE                 0.003843\n",
       "600 BLOCK G STREET NE                 0.003739\n",
       "8200 BLOCK EASTERN AVENUE NW          0.003670\n",
       "600 BLOCK ELMIRA STREET SE            0.003497\n",
       "5200 BLOCK 4TH STREET NE              0.003462\n",
       "700 BLOCK F STREET NE                 0.003393\n",
       "300 BLOCK ATLANTIC STREET SE          0.003393\n",
       "600 BLOCK STREET NW                   0.003359\n",
       "5300 BLOCK ILLINOIS AVENUE NW         0.003185\n",
       "400 BLOCK G STREET NE                 0.003151\n",
       "3600 BLOCK ORDWAY STREET NW           0.003151\n",
       "1500 BLOCK SWANN STREET NW            0.003151\n",
       "0 BLOCK QUINCY PLACE NE               0.003082\n",
       "300 BLOCK 5TH STREET NE               0.003082\n",
       "2400 BLOCK E STREET NE                0.003082\n",
       "0 BLOCK HANOVER PLACE NW              0.002943\n",
       "2800 BLOCK 6TH STREET NE              0.002943\n",
       "3500 BLOCK ALBEMARLE STREET NW        0.002908\n",
       "200 BLOCK NICHOLSON STREET NE         0.002908\n",
       "200 BLOCK EAST CAPITOL STREET NE      0.002908\n",
       "400 BLOCK 5TH STREET NE               0.002874\n",
       "1600 BLOCK A STREET NE                0.002839\n",
       "Name: BLOCK, dtype: float64"
      ]
     },
     "execution_count": 170,
     "metadata": {},
     "output_type": "execute_result"
    }
   ],
   "source": [
    "# Here's the list of the blocks and the number of citations issued\n",
    "\n",
    "df_short['BLOCK'].value_counts(normalize=True)[0:50]"
   ]
  },
  {
   "cell_type": "code",
   "execution_count": 171,
   "metadata": {},
   "outputs": [
    {
     "data": {
      "text/plain": [
       "1500 BLOCK SWANN STREET NW          13\n",
       "100 BLOCK SEATON PLACE NW            7\n",
       "900 BLOCK T STREET NW                6\n",
       "1200 BLOCK E STREET SE               6\n",
       "1400 BLOCK SWANN STREET NW           6\n",
       "1600 BLOCK 11TH STREET NW            6\n",
       "1100 BLOCK W STREET NW               5\n",
       "1700 BLOCK 9TH STREET NW             4\n",
       "1500 BLOCK MARION STREET NW          3\n",
       "1400 BLOCK HALF STREET SW            3\n",
       "1300 BLOCK R STREET NW               3\n",
       "900 BLOCK P STREET NW                2\n",
       "1500 BLOCK 1ST STREET SW             2\n",
       "1500 BLOCK QUEEN STREET NE           2\n",
       "5100 BLOCK SOUTHERN AVENUE SE        2\n",
       "1300 BLOCK SIMMS PLACE NE            2\n",
       "1500 BLOCK S STREET SE               2\n",
       "3200 BLOCK 13TH STREET NW            2\n",
       "1000 BLOCK GIRARD STREET NW          2\n",
       "700 BLOCK 7TH STREET SW              2\n",
       "900 BLOCK 7TH STREET SW              2\n",
       "900 BLOCK O STREET NW                2\n",
       "1300 BLOCK Q STREET NW               2\n",
       "1300 BLOCK DELAFIELD PLACE NW        2\n",
       "200 BLOCK 3RD STREET NE              2\n",
       "7200 BLOCK 15TH PLACE NW             1\n",
       "800 BLOCK 50TH PLACE NE              1\n",
       "2200 BLOCK T PLACE SE                1\n",
       "1600 BLOCK NEWTON STREET NW          1\n",
       "2600 BLOCK QUEENS CHAPEL ROAD NE     1\n",
       "2000 BLOCK FORT DAVIS STREET SE      1\n",
       "3900 BLOCK 7TH STREET NE             1\n",
       "1600 BLOCK 6TH STREET NW             1\n",
       "3700 BLOCK DAVIS STREET NW           1\n",
       "1400 BLOCK S STREET NW               1\n",
       "100 BLOCK 9TH STREET NE              1\n",
       "1100 BLOCK Q STREET NW               1\n",
       "1400 BLOCK 10TH STREET NW            1\n",
       "400 BLOCK 13TH STREET NE             1\n",
       "200 BLOCK 35TH STREET NE             1\n",
       "1600 BLOCK KRAMER STREET NE          1\n",
       "200 BLOCK VAN BUREN STREET NW        1\n",
       "100 BLOCK 35TH STREET SE             1\n",
       "4600 BLOCK CONNECTICUT AVENUE NW     1\n",
       "3900 BLOCK CLAY PLACE NE             1\n",
       "100 BLOCK U STREET NE                1\n",
       "200 BLOCK NICHOLSON STREET NE        1\n",
       "500 BLOCK T STREET NW                1\n",
       "4600 BLOCK 7TH STREET NW             1\n",
       "1200 BLOCK W STREET NW               1\n",
       "Name: BLOCK, dtype: int64"
      ]
     },
     "execution_count": 171,
     "metadata": {},
     "output_type": "execute_result"
    }
   ],
   "source": [
    "# Here, for example, is a count of citations on Sunday, by contrast\n",
    "\n",
    "df_short.loc[df_short['day_of_week']=='Sunday']['BLOCK'].value_counts()[0:50]"
   ]
  },
  {
   "cell_type": "code",
   "execution_count": 174,
   "metadata": {},
   "outputs": [
    {
     "data": {
      "text/plain": [
       "1200 BLOCK D STREET SE                126\n",
       "1200 BLOCK U STREET SE                116\n",
       "200 BLOCK 3RD STREET NE               111\n",
       "600 BLOCK 24TH STREET NE              110\n",
       "1500 BLOCK OLIVE STREET NE            105\n",
       "900 BLOCK 6TH STREET NE               105\n",
       "1400 BLOCK CRITTENDEN STREET NW        87\n",
       "1700 BLOCK NEW HAMPSHIRE AVENUE NW     79\n",
       "2200 BLOCK KEARNY STREET NE            77\n",
       "500 BLOCK 24TH STREET NE               75\n",
       "2400 BLOCK E STREET NE                 66\n",
       "4500 BLOCK CLARK PLACE NW              63\n",
       "900 BLOCK VARNUM STREET NE             62\n",
       "0 BLOCK BATES STREET NW                60\n",
       "1600 BLOCK OLIVE STREET NE             60\n",
       "1300 BLOCK I STREET NE                 57\n",
       "1600 BLOCK KRAMER STREET NE            56\n",
       "300 BLOCK 5TH STREET NE                50\n",
       "1200 BLOCK SAVANNAH PLACE SE           44\n",
       "1700 BLOCK 14TH STREET SE              43\n",
       "0 BLOCK HANOVER PLACE NW               42\n",
       "0 BLOCK N STREET SW                    40\n",
       "1400 BLOCK HALF STREET SW              39\n",
       "4600 BLOCK QUARLES STREET NE           37\n",
       "800 BLOCK WEST VIRGINIA AVENUE NE      37\n",
       "3600 BLOCK ORDWAY STREET NW            37\n",
       "600 BLOCK M STREET NE                  35\n",
       "1000 BLOCK BRYANT STREET NE            35\n",
       "600 BLOCK ELMIRA STREET SE             34\n",
       "900 BLOCK BARNABY STREET SE            33\n",
       "500 BLOCK E STREET NE                  32\n",
       "5200 BLOCK 4TH STREET NE               32\n",
       "400 BLOCK G STREET NE                  32\n",
       "5300 BLOCK ILLINOIS AVENUE NW          31\n",
       "1400 BLOCK UNDERWOOD STREET NW         30\n",
       "2700 BLOCK CENTRAL AVENUE NE           29\n",
       "900 BLOCK 19TH STREET NE               29\n",
       "300 BLOCK A STREET NE                  29\n",
       "2000 BLOCK 4TH STREET NE               28\n",
       "4600 BLOCK POLK STREET NE              27\n",
       "1400 BLOCK RITTENHOUSE STREET NW       27\n",
       "4300 BLOCK 15TH STREET NW              27\n",
       "5100 BLOCK HAYES STREET NE             27\n",
       "200 BLOCK EAST CAPITOL STREET NE       26\n",
       "3500 BLOCK ALBEMARLE STREET NW         26\n",
       "7100 BLOCK CHESTNUT STREET NW          26\n",
       "300 BLOCK 8TH STREET SE                25\n",
       "2600 BLOCK 11TH STREET NW              25\n",
       "1400 BLOCK KENNEDY STREET NW           25\n",
       "5300 BLOCK DANA PLACE NW               25\n",
       "Name: BLOCK, dtype: int64"
      ]
     },
     "execution_count": 174,
     "metadata": {},
     "output_type": "execute_result"
    }
   ],
   "source": [
    "# Here, for example, is a count of citations in 2017\n",
    "\n",
    "df_short.loc[df_short['year']==2017]['BLOCK'].value_counts()[0:50]"
   ]
  },
  {
   "cell_type": "code",
   "execution_count": 175,
   "metadata": {},
   "outputs": [
    {
     "data": {
      "text/plain": [
       "200 BLOCK 3RD STREET NE              159\n",
       "4500 BLOCK CLARK PLACE NW            113\n",
       "0 BLOCK BATES STREET NW              104\n",
       "1300 BLOCK I STREET NE                98\n",
       "1400 BLOCK CRITTENDEN STREET NW       88\n",
       "500 BLOCK 5TH STREET NE               79\n",
       "1200 BLOCK U STREET SE                76\n",
       "1400 BLOCK KENNEDY STREET NW          69\n",
       "0 BLOCK N STREET SW                   68\n",
       "600 BLOCK STREET NW                   66\n",
       "2000 BLOCK 4TH STREET NE              57\n",
       "500 BLOCK 24TH STREET NE              56\n",
       "500 BLOCK E STREET NE                 51\n",
       "5300 BLOCK ILLINOIS AVENUE NW         50\n",
       "900 BLOCK VARNUM STREET NE            45\n",
       "1500 BLOCK OLIVE STREET NE            42\n",
       "1100 BLOCK I STREET NE                42\n",
       "2200 BLOCK KEARNY STREET NE           40\n",
       "600 BLOCK INDEPENDENCE AVENUE SE      40\n",
       "100 BLOCK THOMAS STREET NW            38\n",
       "600 BLOCK G STREET NE                 37\n",
       "600 BLOCK 24TH STREET NE              37\n",
       "900 BLOCK 6TH STREET NE               35\n",
       "1600 BLOCK KRAMER STREET NE           35\n",
       "1500 BLOCK SWANN STREET NW            34\n",
       "6200 BLOCK ND STREET NW               33\n",
       "1400 BLOCK HALF STREET SW             32\n",
       "1600 BLOCK OLIVE STREET NE            31\n",
       "5200 BLOCK 4TH STREET NE              29\n",
       "200 BLOCK C STREET NE                 28\n",
       "1900 BLOCK IRVING STREET NE           26\n",
       "8200 BLOCK EASTERN AVENUE NW          26\n",
       "3600 BLOCK ORDWAY STREET NW           26\n",
       "600 BLOCK M STREET NE                 25\n",
       "5300 BLOCK DANA PLACE NW              25\n",
       "400 BLOCK 5TH STREET NE               25\n",
       "1500 BLOCK VAN BUREN STREET NW        24\n",
       "800 BLOCK WEST VIRGINIA AVENUE NE     24\n",
       "200 BLOCK EAST CAPITOL STREET NE      24\n",
       "700 BLOCK 5TH STREET NE               23\n",
       "5100 BLOCK HAYES STREET NE            22\n",
       "1300 BLOCK LEEGATE ROAD NW            22\n",
       "1100 BLOCK ORREN STREET NE            21\n",
       "500 BLOCK NEWTON PLACE NW             21\n",
       "3500 BLOCK ALBEMARLE STREET NW        21\n",
       "200 BLOCK MARYLAND AVENUE NE          21\n",
       "700 BLOCK F STREET NE                 20\n",
       "1300 BLOCK D STREET NE                20\n",
       "1500 BLOCK 1ST STREET NW              20\n",
       "1100 BLOCK 5TH STREET NE              19\n",
       "Name: BLOCK, dtype: int64"
      ]
     },
     "execution_count": 175,
     "metadata": {},
     "output_type": "execute_result"
    }
   ],
   "source": [
    "# Here, for example, is a count of citations on 2016\n",
    "\n",
    "df_short.loc[df_short['year']==2016]['BLOCK'].value_counts()[0:50]"
   ]
  },
  {
   "cell_type": "code",
   "execution_count": null,
   "metadata": {},
   "outputs": [],
   "source": []
  },
  {
   "cell_type": "code",
   "execution_count": null,
   "metadata": {},
   "outputs": [],
   "source": []
  }
 ],
 "metadata": {
  "kernelspec": {
   "display_name": "Python 3",
   "language": "python",
   "name": "python3"
  },
  "language_info": {
   "codemirror_mode": {
    "name": "ipython",
    "version": 3
   },
   "file_extension": ".py",
   "mimetype": "text/x-python",
   "name": "python",
   "nbconvert_exporter": "python",
   "pygments_lexer": "ipython3",
   "version": "3.6.5"
  }
 },
 "nbformat": 4,
 "nbformat_minor": 2
}
