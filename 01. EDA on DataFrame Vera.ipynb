{
 "cells": [
  {
   "cell_type": "code",
   "execution_count": 63,
   "metadata": {},
   "outputs": [],
   "source": [
    "import numpy as np\n",
    "import pandas as pd"
   ]
  },
  {
   "cell_type": "code",
   "execution_count": 64,
   "metadata": {},
   "outputs": [],
   "source": [
    "df1=pd.read_pickle('./res_parking_permit_violations')"
   ]
  },
  {
   "cell_type": "code",
   "execution_count": 65,
   "metadata": {},
   "outputs": [],
   "source": [
    "df2=pd.read_csv('./Residential_Parking_Permit_Blocks.csv')"
   ]
  },
  {
   "cell_type": "code",
   "execution_count": 66,
   "metadata": {},
   "outputs": [],
   "source": [
    "import re\n",
    "\n",
    "def get_address_block(address):\n",
    "    try:\n",
    "        m = re.findall('(\\d+\\s)', address)\n",
    "        return(np.mean([float(x.strip()) for x in m]))\n",
    "    except:\n",
    "        return(np.nan)"
   ]
  },
  {
   "cell_type": "code",
   "execution_count": 67,
   "metadata": {
    "scrolled": false
   },
   "outputs": [
    {
     "name": "stderr",
     "output_type": "stream",
     "text": [
      "/Users/veraburfield/anaconda3/envs/dsi/lib/python3.6/site-packages/numpy/core/fromnumeric.py:2957: RuntimeWarning: Mean of empty slice.\n",
      "  out=out, **kwargs)\n"
     ]
    }
   ],
   "source": [
    "df1['BLOCK'] = df1['STREETADDRESS'].apply(get_address_block)"
   ]
  },
  {
   "cell_type": "code",
   "execution_count": 68,
   "metadata": {},
   "outputs": [
    {
     "data": {
      "text/plain": [
       "((29807, 31), 926)"
      ]
     },
     "execution_count": 68,
     "metadata": {},
     "output_type": "execute_result"
    }
   ],
   "source": [
    "df1.shape,df1['BLOCK'].isnull().sum()"
   ]
  },
  {
   "cell_type": "code",
   "execution_count": 69,
   "metadata": {},
   "outputs": [],
   "source": [
    "#just going to drop observations where there is no street address\n",
    "df1 = df1.dropna(subset=['BLOCK'])"
   ]
  },
  {
   "cell_type": "code",
   "execution_count": 105,
   "metadata": {
    "scrolled": true
   },
   "outputs": [
    {
     "data": {
      "text/plain": [
       "6600"
      ]
     },
     "execution_count": 105,
     "metadata": {},
     "output_type": "execute_result"
    }
   ],
   "source": [
    "#using math.floor to make sure something like 7899 does not round up to 7900th block instead of 7800th\n",
    "math.floor(6698/100)*100"
   ]
  },
  {
   "cell_type": "code",
   "execution_count": 101,
   "metadata": {
    "scrolled": true
   },
   "outputs": [],
   "source": [
    "import math \n",
    "\n",
    "blocks = []\n",
    "for i in df1['BLOCK']:\n",
    "    blocks.append(math.floor(i/ 100)*100)\n",
    "df1['BLOCK'] = blocks"
   ]
  },
  {
   "cell_type": "code",
   "execution_count": 106,
   "metadata": {},
   "outputs": [
    {
     "data": {
      "text/html": [
       "<div>\n",
       "<style scoped>\n",
       "    .dataframe tbody tr th:only-of-type {\n",
       "        vertical-align: middle;\n",
       "    }\n",
       "\n",
       "    .dataframe tbody tr th {\n",
       "        vertical-align: top;\n",
       "    }\n",
       "\n",
       "    .dataframe thead th {\n",
       "        text-align: right;\n",
       "    }\n",
       "</style>\n",
       "<table border=\"1\" class=\"dataframe\">\n",
       "  <thead>\n",
       "    <tr style=\"text-align: right;\">\n",
       "      <th></th>\n",
       "      <th>58</th>\n",
       "      <th>149</th>\n",
       "      <th>227</th>\n",
       "      <th>283</th>\n",
       "      <th>445</th>\n",
       "    </tr>\n",
       "  </thead>\n",
       "  <tbody>\n",
       "    <tr>\n",
       "      <th>X</th>\n",
       "      <td>-77.0269</td>\n",
       "      <td>-77.0239</td>\n",
       "      <td>-76.9893</td>\n",
       "      <td>-76.9795</td>\n",
       "      <td>-76.9635</td>\n",
       "    </tr>\n",
       "    <tr>\n",
       "      <th>Y</th>\n",
       "      <td>38.9808</td>\n",
       "      <td>38.958</td>\n",
       "      <td>38.8948</td>\n",
       "      <td>38.9048</td>\n",
       "      <td>38.9275</td>\n",
       "    </tr>\n",
       "    <tr>\n",
       "      <th>OBJECTID</th>\n",
       "      <td>308922</td>\n",
       "      <td>309013</td>\n",
       "      <td>309091</td>\n",
       "      <td>309147</td>\n",
       "      <td>309309</td>\n",
       "    </tr>\n",
       "    <tr>\n",
       "      <th>SERVICECODE</th>\n",
       "      <td>RPP</td>\n",
       "      <td>RPP</td>\n",
       "      <td>RPP</td>\n",
       "      <td>RPP</td>\n",
       "      <td>RPP</td>\n",
       "    </tr>\n",
       "    <tr>\n",
       "      <th>SERVICECODEDESCRIPTION</th>\n",
       "      <td>Residential Parking Permit Violation</td>\n",
       "      <td>Residential Parking Permit Violation</td>\n",
       "      <td>Residential Parking Permit Violation</td>\n",
       "      <td>Residential Parking Permit Violation</td>\n",
       "      <td>Residential Parking Permit Violation</td>\n",
       "    </tr>\n",
       "    <tr>\n",
       "      <th>SERVICETYPECODEDESCRIPTION</th>\n",
       "      <td>PEMA- Parking Enforcement Management Administr...</td>\n",
       "      <td>PEMA- Parking Enforcement Management Administr...</td>\n",
       "      <td>PEMA- Parking Enforcement Management Administr...</td>\n",
       "      <td>PEMA- Parking Enforcement Management Administr...</td>\n",
       "      <td>PEMA- Parking Enforcement Management Administr...</td>\n",
       "    </tr>\n",
       "    <tr>\n",
       "      <th>ORGANIZATIONACRONYM</th>\n",
       "      <td>DPW</td>\n",
       "      <td>DPW</td>\n",
       "      <td>DPW</td>\n",
       "      <td>DPW</td>\n",
       "      <td>DPW</td>\n",
       "    </tr>\n",
       "    <tr>\n",
       "      <th>SERVICECALLCOUNT</th>\n",
       "      <td>1</td>\n",
       "      <td>1</td>\n",
       "      <td>1</td>\n",
       "      <td>1</td>\n",
       "      <td>1</td>\n",
       "    </tr>\n",
       "    <tr>\n",
       "      <th>ADDDATE</th>\n",
       "      <td>2018-01-03T20:21:02.000Z</td>\n",
       "      <td>2018-01-04T03:59:23.000Z</td>\n",
       "      <td>2018-01-04T08:50:39.000Z</td>\n",
       "      <td>2018-01-04T11:04:04.000Z</td>\n",
       "      <td>2018-01-04T16:12:50.000Z</td>\n",
       "    </tr>\n",
       "    <tr>\n",
       "      <th>RESOLUTIONDATE</th>\n",
       "      <td>2018-01-03T21:44:35.000Z</td>\n",
       "      <td>2018-01-04T08:17:39.000Z</td>\n",
       "      <td>2018-01-04T08:56:22.000Z</td>\n",
       "      <td>2018-01-04T12:10:12.000Z</td>\n",
       "      <td>2018-01-04T16:41:07.000Z</td>\n",
       "    </tr>\n",
       "    <tr>\n",
       "      <th>SERVICEDUEDATE</th>\n",
       "      <td>2018-01-04T17:00:00.000Z</td>\n",
       "      <td>2018-01-04T17:00:00.000Z</td>\n",
       "      <td>2018-01-04T17:00:00.000Z</td>\n",
       "      <td>2018-01-05T11:04:00.000Z</td>\n",
       "      <td>2018-01-05T16:12:00.000Z</td>\n",
       "    </tr>\n",
       "    <tr>\n",
       "      <th>SERVICEORDERDATE</th>\n",
       "      <td>2018-01-03T20:21:02.000Z</td>\n",
       "      <td>2018-01-04T03:59:23.000Z</td>\n",
       "      <td>2018-01-04T08:50:39.000Z</td>\n",
       "      <td>2018-01-04T11:04:04.000Z</td>\n",
       "      <td>2018-01-04T16:12:50.000Z</td>\n",
       "    </tr>\n",
       "    <tr>\n",
       "      <th>INSPECTIONFLAG</th>\n",
       "      <td>N</td>\n",
       "      <td>N</td>\n",
       "      <td>N</td>\n",
       "      <td>N</td>\n",
       "      <td>N</td>\n",
       "    </tr>\n",
       "    <tr>\n",
       "      <th>INSPECTIONDATE</th>\n",
       "      <td>NaN</td>\n",
       "      <td>NaN</td>\n",
       "      <td>NaN</td>\n",
       "      <td>NaN</td>\n",
       "      <td>NaN</td>\n",
       "    </tr>\n",
       "    <tr>\n",
       "      <th>INSPECTORNAME</th>\n",
       "      <td>NaN</td>\n",
       "      <td>NaN</td>\n",
       "      <td>NaN</td>\n",
       "      <td>NaN</td>\n",
       "      <td>NaN</td>\n",
       "    </tr>\n",
       "    <tr>\n",
       "      <th>SERVICEORDERSTATUS</th>\n",
       "      <td>CLOSED</td>\n",
       "      <td>CLOSED</td>\n",
       "      <td>CLOSED</td>\n",
       "      <td>CLOSED</td>\n",
       "      <td>CLOSED</td>\n",
       "    </tr>\n",
       "    <tr>\n",
       "      <th>STATUS_CODE</th>\n",
       "      <td>CLOSED</td>\n",
       "      <td>CLOSED</td>\n",
       "      <td>CLOSED</td>\n",
       "      <td>CLOSED</td>\n",
       "      <td>CLOSED</td>\n",
       "    </tr>\n",
       "    <tr>\n",
       "      <th>SERVICEREQUESTID</th>\n",
       "      <td>18-00005349</td>\n",
       "      <td>18-00005451</td>\n",
       "      <td>18-00005627</td>\n",
       "      <td>18-00006037</td>\n",
       "      <td>18-00007286</td>\n",
       "    </tr>\n",
       "    <tr>\n",
       "      <th>PRIORITY</th>\n",
       "      <td>STANDARD</td>\n",
       "      <td>STANDARD</td>\n",
       "      <td>STANDARD</td>\n",
       "      <td>STANDARD</td>\n",
       "      <td>STANDARD</td>\n",
       "    </tr>\n",
       "    <tr>\n",
       "      <th>STREETADDRESS</th>\n",
       "      <td>7436 GEORGIA AVENUE NW</td>\n",
       "      <td>5617 8TH STREET NW</td>\n",
       "      <td>1200 - 1299 BLOCK OF D STREET NE</td>\n",
       "      <td>1619 LYMAN PLACE NE</td>\n",
       "      <td>2716 CENTRAL AVENUE NE</td>\n",
       "    </tr>\n",
       "    <tr>\n",
       "      <th>XCOORD</th>\n",
       "      <td>397673</td>\n",
       "      <td>397928</td>\n",
       "      <td>400930</td>\n",
       "      <td>401777</td>\n",
       "      <td>403161</td>\n",
       "    </tr>\n",
       "    <tr>\n",
       "      <th>YCOORD</th>\n",
       "      <td>145878</td>\n",
       "      <td>143348</td>\n",
       "      <td>136326</td>\n",
       "      <td>137441</td>\n",
       "      <td>139954</td>\n",
       "    </tr>\n",
       "    <tr>\n",
       "      <th>LATITUDE</th>\n",
       "      <td>38.9808</td>\n",
       "      <td>38.958</td>\n",
       "      <td>38.8948</td>\n",
       "      <td>38.9048</td>\n",
       "      <td>38.9275</td>\n",
       "    </tr>\n",
       "    <tr>\n",
       "      <th>LONGITUDE</th>\n",
       "      <td>-77.0269</td>\n",
       "      <td>-77.0239</td>\n",
       "      <td>-76.9893</td>\n",
       "      <td>-76.9795</td>\n",
       "      <td>-76.9635</td>\n",
       "    </tr>\n",
       "    <tr>\n",
       "      <th>CITY</th>\n",
       "      <td>WASHINGTON</td>\n",
       "      <td>WASHINGTON</td>\n",
       "      <td>WASHINGTON</td>\n",
       "      <td>WASHINGTON</td>\n",
       "      <td>WASHINGTON</td>\n",
       "    </tr>\n",
       "    <tr>\n",
       "      <th>STATE</th>\n",
       "      <td>DC</td>\n",
       "      <td>DC</td>\n",
       "      <td>DC</td>\n",
       "      <td>DC</td>\n",
       "      <td>DC</td>\n",
       "    </tr>\n",
       "    <tr>\n",
       "      <th>ZIPCODE</th>\n",
       "      <td>20012</td>\n",
       "      <td>20011</td>\n",
       "      <td>20002</td>\n",
       "      <td>20002</td>\n",
       "      <td>20018</td>\n",
       "    </tr>\n",
       "    <tr>\n",
       "      <th>MARADDRESSREPOSITORYID</th>\n",
       "      <td>253519</td>\n",
       "      <td>250316</td>\n",
       "      <td>815347</td>\n",
       "      <td>59427</td>\n",
       "      <td>287198</td>\n",
       "    </tr>\n",
       "    <tr>\n",
       "      <th>WARD</th>\n",
       "      <td>4</td>\n",
       "      <td>4</td>\n",
       "      <td>6</td>\n",
       "      <td>5</td>\n",
       "      <td>5</td>\n",
       "    </tr>\n",
       "    <tr>\n",
       "      <th>DETAILS</th>\n",
       "      <td>dpw officer observed area for rpp and no viola...</td>\n",
       "      <td>DPW Officer unable to enforce due to inclement...</td>\n",
       "      <td>DPW Officer unable to enforce due to inclement...</td>\n",
       "      <td>DPW Officer observed area and no violation(s) ...</td>\n",
       "      <td>do to the inclement weather not able to enforce</td>\n",
       "    </tr>\n",
       "    <tr>\n",
       "      <th>BLOCK</th>\n",
       "      <td>7400</td>\n",
       "      <td>5600</td>\n",
       "      <td>1200</td>\n",
       "      <td>1600</td>\n",
       "      <td>2700</td>\n",
       "    </tr>\n",
       "  </tbody>\n",
       "</table>\n",
       "</div>"
      ],
      "text/plain": [
       "                                                                          58   \\\n",
       "X                                                                    -77.0269   \n",
       "Y                                                                     38.9808   \n",
       "OBJECTID                                                               308922   \n",
       "SERVICECODE                                                               RPP   \n",
       "SERVICECODEDESCRIPTION                   Residential Parking Permit Violation   \n",
       "SERVICETYPECODEDESCRIPTION  PEMA- Parking Enforcement Management Administr...   \n",
       "ORGANIZATIONACRONYM                                                       DPW   \n",
       "SERVICECALLCOUNT                                                            1   \n",
       "ADDDATE                                              2018-01-03T20:21:02.000Z   \n",
       "RESOLUTIONDATE                                       2018-01-03T21:44:35.000Z   \n",
       "SERVICEDUEDATE                                       2018-01-04T17:00:00.000Z   \n",
       "SERVICEORDERDATE                                     2018-01-03T20:21:02.000Z   \n",
       "INSPECTIONFLAG                                                              N   \n",
       "INSPECTIONDATE                                                            NaN   \n",
       "INSPECTORNAME                                                             NaN   \n",
       "SERVICEORDERSTATUS                                                     CLOSED   \n",
       "STATUS_CODE                                                            CLOSED   \n",
       "SERVICEREQUESTID                                                  18-00005349   \n",
       "PRIORITY                                                             STANDARD   \n",
       "STREETADDRESS                                          7436 GEORGIA AVENUE NW   \n",
       "XCOORD                                                                 397673   \n",
       "YCOORD                                                                 145878   \n",
       "LATITUDE                                                              38.9808   \n",
       "LONGITUDE                                                            -77.0269   \n",
       "CITY                                                               WASHINGTON   \n",
       "STATE                                                                      DC   \n",
       "ZIPCODE                                                                 20012   \n",
       "MARADDRESSREPOSITORYID                                                 253519   \n",
       "WARD                                                                        4   \n",
       "DETAILS                     dpw officer observed area for rpp and no viola...   \n",
       "BLOCK                                                                    7400   \n",
       "\n",
       "                                                                          149  \\\n",
       "X                                                                    -77.0239   \n",
       "Y                                                                      38.958   \n",
       "OBJECTID                                                               309013   \n",
       "SERVICECODE                                                               RPP   \n",
       "SERVICECODEDESCRIPTION                   Residential Parking Permit Violation   \n",
       "SERVICETYPECODEDESCRIPTION  PEMA- Parking Enforcement Management Administr...   \n",
       "ORGANIZATIONACRONYM                                                       DPW   \n",
       "SERVICECALLCOUNT                                                            1   \n",
       "ADDDATE                                              2018-01-04T03:59:23.000Z   \n",
       "RESOLUTIONDATE                                       2018-01-04T08:17:39.000Z   \n",
       "SERVICEDUEDATE                                       2018-01-04T17:00:00.000Z   \n",
       "SERVICEORDERDATE                                     2018-01-04T03:59:23.000Z   \n",
       "INSPECTIONFLAG                                                              N   \n",
       "INSPECTIONDATE                                                            NaN   \n",
       "INSPECTORNAME                                                             NaN   \n",
       "SERVICEORDERSTATUS                                                     CLOSED   \n",
       "STATUS_CODE                                                            CLOSED   \n",
       "SERVICEREQUESTID                                                  18-00005451   \n",
       "PRIORITY                                                             STANDARD   \n",
       "STREETADDRESS                                              5617 8TH STREET NW   \n",
       "XCOORD                                                                 397928   \n",
       "YCOORD                                                                 143348   \n",
       "LATITUDE                                                               38.958   \n",
       "LONGITUDE                                                            -77.0239   \n",
       "CITY                                                               WASHINGTON   \n",
       "STATE                                                                      DC   \n",
       "ZIPCODE                                                                 20011   \n",
       "MARADDRESSREPOSITORYID                                                 250316   \n",
       "WARD                                                                        4   \n",
       "DETAILS                     DPW Officer unable to enforce due to inclement...   \n",
       "BLOCK                                                                    5600   \n",
       "\n",
       "                                                                          227  \\\n",
       "X                                                                    -76.9893   \n",
       "Y                                                                     38.8948   \n",
       "OBJECTID                                                               309091   \n",
       "SERVICECODE                                                               RPP   \n",
       "SERVICECODEDESCRIPTION                   Residential Parking Permit Violation   \n",
       "SERVICETYPECODEDESCRIPTION  PEMA- Parking Enforcement Management Administr...   \n",
       "ORGANIZATIONACRONYM                                                       DPW   \n",
       "SERVICECALLCOUNT                                                            1   \n",
       "ADDDATE                                              2018-01-04T08:50:39.000Z   \n",
       "RESOLUTIONDATE                                       2018-01-04T08:56:22.000Z   \n",
       "SERVICEDUEDATE                                       2018-01-04T17:00:00.000Z   \n",
       "SERVICEORDERDATE                                     2018-01-04T08:50:39.000Z   \n",
       "INSPECTIONFLAG                                                              N   \n",
       "INSPECTIONDATE                                                            NaN   \n",
       "INSPECTORNAME                                                             NaN   \n",
       "SERVICEORDERSTATUS                                                     CLOSED   \n",
       "STATUS_CODE                                                            CLOSED   \n",
       "SERVICEREQUESTID                                                  18-00005627   \n",
       "PRIORITY                                                             STANDARD   \n",
       "STREETADDRESS                                1200 - 1299 BLOCK OF D STREET NE   \n",
       "XCOORD                                                                 400930   \n",
       "YCOORD                                                                 136326   \n",
       "LATITUDE                                                              38.8948   \n",
       "LONGITUDE                                                            -76.9893   \n",
       "CITY                                                               WASHINGTON   \n",
       "STATE                                                                      DC   \n",
       "ZIPCODE                                                                 20002   \n",
       "MARADDRESSREPOSITORYID                                                 815347   \n",
       "WARD                                                                        6   \n",
       "DETAILS                     DPW Officer unable to enforce due to inclement...   \n",
       "BLOCK                                                                    1200   \n",
       "\n",
       "                                                                          283  \\\n",
       "X                                                                    -76.9795   \n",
       "Y                                                                     38.9048   \n",
       "OBJECTID                                                               309147   \n",
       "SERVICECODE                                                               RPP   \n",
       "SERVICECODEDESCRIPTION                   Residential Parking Permit Violation   \n",
       "SERVICETYPECODEDESCRIPTION  PEMA- Parking Enforcement Management Administr...   \n",
       "ORGANIZATIONACRONYM                                                       DPW   \n",
       "SERVICECALLCOUNT                                                            1   \n",
       "ADDDATE                                              2018-01-04T11:04:04.000Z   \n",
       "RESOLUTIONDATE                                       2018-01-04T12:10:12.000Z   \n",
       "SERVICEDUEDATE                                       2018-01-05T11:04:00.000Z   \n",
       "SERVICEORDERDATE                                     2018-01-04T11:04:04.000Z   \n",
       "INSPECTIONFLAG                                                              N   \n",
       "INSPECTIONDATE                                                            NaN   \n",
       "INSPECTORNAME                                                             NaN   \n",
       "SERVICEORDERSTATUS                                                     CLOSED   \n",
       "STATUS_CODE                                                            CLOSED   \n",
       "SERVICEREQUESTID                                                  18-00006037   \n",
       "PRIORITY                                                             STANDARD   \n",
       "STREETADDRESS                                             1619 LYMAN PLACE NE   \n",
       "XCOORD                                                                 401777   \n",
       "YCOORD                                                                 137441   \n",
       "LATITUDE                                                              38.9048   \n",
       "LONGITUDE                                                            -76.9795   \n",
       "CITY                                                               WASHINGTON   \n",
       "STATE                                                                      DC   \n",
       "ZIPCODE                                                                 20002   \n",
       "MARADDRESSREPOSITORYID                                                  59427   \n",
       "WARD                                                                        5   \n",
       "DETAILS                     DPW Officer observed area and no violation(s) ...   \n",
       "BLOCK                                                                    1600   \n",
       "\n",
       "                                                                          445  \n",
       "X                                                                    -76.9635  \n",
       "Y                                                                     38.9275  \n",
       "OBJECTID                                                               309309  \n",
       "SERVICECODE                                                               RPP  \n",
       "SERVICECODEDESCRIPTION                   Residential Parking Permit Violation  \n",
       "SERVICETYPECODEDESCRIPTION  PEMA- Parking Enforcement Management Administr...  \n",
       "ORGANIZATIONACRONYM                                                       DPW  \n",
       "SERVICECALLCOUNT                                                            1  \n",
       "ADDDATE                                              2018-01-04T16:12:50.000Z  \n",
       "RESOLUTIONDATE                                       2018-01-04T16:41:07.000Z  \n",
       "SERVICEDUEDATE                                       2018-01-05T16:12:00.000Z  \n",
       "SERVICEORDERDATE                                     2018-01-04T16:12:50.000Z  \n",
       "INSPECTIONFLAG                                                              N  \n",
       "INSPECTIONDATE                                                            NaN  \n",
       "INSPECTORNAME                                                             NaN  \n",
       "SERVICEORDERSTATUS                                                     CLOSED  \n",
       "STATUS_CODE                                                            CLOSED  \n",
       "SERVICEREQUESTID                                                  18-00007286  \n",
       "PRIORITY                                                             STANDARD  \n",
       "STREETADDRESS                                          2716 CENTRAL AVENUE NE  \n",
       "XCOORD                                                                 403161  \n",
       "YCOORD                                                                 139954  \n",
       "LATITUDE                                                              38.9275  \n",
       "LONGITUDE                                                            -76.9635  \n",
       "CITY                                                               WASHINGTON  \n",
       "STATE                                                                      DC  \n",
       "ZIPCODE                                                                 20018  \n",
       "MARADDRESSREPOSITORYID                                                 287198  \n",
       "WARD                                                                        5  \n",
       "DETAILS                       do to the inclement weather not able to enforce  \n",
       "BLOCK                                                                    2700  "
      ]
     },
     "execution_count": 106,
     "metadata": {},
     "output_type": "execute_result"
    }
   ],
   "source": [
    "df1.head().T"
   ]
  },
  {
   "cell_type": "code",
   "execution_count": 139,
   "metadata": {},
   "outputs": [
    {
     "data": {
      "text/plain": [
       "(28881, 31)"
      ]
     },
     "execution_count": 139,
     "metadata": {},
     "output_type": "execute_result"
    }
   ],
   "source": [
    "df1.shape"
   ]
  },
  {
   "cell_type": "code",
   "execution_count": 161,
   "metadata": {
    "scrolled": true
   },
   "outputs": [
    {
     "data": {
      "text/plain": [
       "149    5617 8TH STREET NW\n",
       "Name: STREETADDRESS, dtype: object"
      ]
     },
     "execution_count": 161,
     "metadata": {},
     "output_type": "execute_result"
    }
   ],
   "source": [
    "import re\n",
    "\n",
    "ex = df1['STREETADDRESS'].iloc[[1]]\n",
    "ex"
   ]
  },
  {
   "cell_type": "code",
   "execution_count": 182,
   "metadata": {
    "scrolled": true
   },
   "outputs": [
    {
     "data": {
      "text/plain": [
       "'1200 '"
      ]
     },
     "execution_count": 182,
     "metadata": {},
     "output_type": "execute_result"
    }
   ],
   "source": [
    "re.findall('(\\d+\\s)', str(df1['STREETADDRESS'].iloc[[2]]))[1]"
   ]
  },
  {
   "cell_type": "code",
   "execution_count": 176,
   "metadata": {},
   "outputs": [
    {
     "data": {
      "text/plain": [
       "149    5617 8TH STREET NW\n",
       "Name: STREETADDRESS, dtype: object"
      ]
     },
     "execution_count": 176,
     "metadata": {},
     "output_type": "execute_result"
    }
   ],
   "source": [
    "ex.replace(re.findall(('(\\d+\\s)'), str()))"
   ]
  },
  {
   "cell_type": "code",
   "execution_count": 130,
   "metadata": {},
   "outputs": [],
   "source": [
    "import usaddress"
   ]
  },
  {
   "cell_type": "code",
   "execution_count": 146,
   "metadata": {},
   "outputs": [
    {
     "name": "stdout",
     "output_type": "stream",
     "text": [
      "58    7436 GEORGIA AVENUE NW\n",
      "Name: STREETADDRESS, dtype: object\n"
     ]
    },
    {
     "ename": "TypeError",
     "evalue": "expected string or bytes-like object",
     "output_type": "error",
     "traceback": [
      "\u001b[0;31m---------------------------------------------------------------------------\u001b[0m",
      "\u001b[0;31mTypeError\u001b[0m                                 Traceback (most recent call last)",
      "\u001b[0;32m<ipython-input-146-b1dcaa3265ae>\u001b[0m in \u001b[0;36m<module>\u001b[0;34m()\u001b[0m\n\u001b[1;32m      4\u001b[0m \u001b[0;32mfor\u001b[0m \u001b[0mi\u001b[0m \u001b[0;32min\u001b[0m \u001b[0mrange\u001b[0m \u001b[0;34m(\u001b[0m\u001b[0;36m28881\u001b[0m\u001b[0;34m)\u001b[0m\u001b[0;34m:\u001b[0m\u001b[0;34m\u001b[0m\u001b[0m\n\u001b[1;32m      5\u001b[0m     \u001b[0mprint\u001b[0m\u001b[0;34m(\u001b[0m\u001b[0mdf1\u001b[0m\u001b[0;34m[\u001b[0m\u001b[0;34m'STREETADDRESS'\u001b[0m\u001b[0;34m]\u001b[0m\u001b[0;34m.\u001b[0m\u001b[0miloc\u001b[0m\u001b[0;34m[\u001b[0m\u001b[0;34m[\u001b[0m\u001b[0mi\u001b[0m\u001b[0;34m]\u001b[0m\u001b[0;34m]\u001b[0m\u001b[0;34m)\u001b[0m\u001b[0;34m\u001b[0m\u001b[0m\n\u001b[0;32m----> 6\u001b[0;31m     \u001b[0mprint\u001b[0m\u001b[0;34m(\u001b[0m\u001b[0mre\u001b[0m\u001b[0;34m.\u001b[0m\u001b[0mfindall\u001b[0m\u001b[0;34m(\u001b[0m\u001b[0;34m'(\\d+\\s)'\u001b[0m\u001b[0;34m,\u001b[0m \u001b[0mdf1\u001b[0m\u001b[0;34m[\u001b[0m\u001b[0;34m'STREETADDRESS'\u001b[0m\u001b[0;34m]\u001b[0m\u001b[0;34m.\u001b[0m\u001b[0miloc\u001b[0m\u001b[0;34m[\u001b[0m\u001b[0;34m[\u001b[0m\u001b[0mi\u001b[0m\u001b[0;34m]\u001b[0m\u001b[0;34m]\u001b[0m\u001b[0;34m)\u001b[0m\u001b[0;34m)\u001b[0m\u001b[0;34m\u001b[0m\u001b[0m\n\u001b[0m\u001b[1;32m      7\u001b[0m         \u001b[0;31m#.replace(usaddress.tag[0]['AddressNumber'], '44'))\u001b[0m\u001b[0;34m\u001b[0m\u001b[0;34m\u001b[0m\u001b[0m\n\u001b[1;32m      8\u001b[0m \u001b[0;34m\u001b[0m\u001b[0m\n",
      "\u001b[0;32m~/anaconda3/envs/dsi/lib/python3.6/re.py\u001b[0m in \u001b[0;36mfindall\u001b[0;34m(pattern, string, flags)\u001b[0m\n\u001b[1;32m    220\u001b[0m \u001b[0;34m\u001b[0m\u001b[0m\n\u001b[1;32m    221\u001b[0m     Empty matches are included in the result.\"\"\"\n\u001b[0;32m--> 222\u001b[0;31m     \u001b[0;32mreturn\u001b[0m \u001b[0m_compile\u001b[0m\u001b[0;34m(\u001b[0m\u001b[0mpattern\u001b[0m\u001b[0;34m,\u001b[0m \u001b[0mflags\u001b[0m\u001b[0;34m)\u001b[0m\u001b[0;34m.\u001b[0m\u001b[0mfindall\u001b[0m\u001b[0;34m(\u001b[0m\u001b[0mstring\u001b[0m\u001b[0;34m)\u001b[0m\u001b[0;34m\u001b[0m\u001b[0m\n\u001b[0m\u001b[1;32m    223\u001b[0m \u001b[0;34m\u001b[0m\u001b[0m\n\u001b[1;32m    224\u001b[0m \u001b[0;32mdef\u001b[0m \u001b[0mfinditer\u001b[0m\u001b[0;34m(\u001b[0m\u001b[0mpattern\u001b[0m\u001b[0;34m,\u001b[0m \u001b[0mstring\u001b[0m\u001b[0;34m,\u001b[0m \u001b[0mflags\u001b[0m\u001b[0;34m=\u001b[0m\u001b[0;36m0\u001b[0m\u001b[0;34m)\u001b[0m\u001b[0;34m:\u001b[0m\u001b[0;34m\u001b[0m\u001b[0m\n",
      "\u001b[0;31mTypeError\u001b[0m: expected string or bytes-like object"
     ]
    }
   ],
   "source": [
    "example = df1['STREETADDRESS'].iloc[[1]]\n",
    "\n",
    "new = []\n",
    "for i in range (28881):\n",
    "    print(df1['STREETADDRESS'].iloc[[i]])\n",
    "    print(re.findall('(\\d+\\s)', df1['STREETADDRESS'].iloc[[i]]))\n",
    "        #.replace(usaddress.tag[0]['AddressNumber'], '44'))\n",
    "    \n",
    "    \n",
    "#usaddress.tag('1520 32nd St')[0]['AddressNumber']"
   ]
  },
  {
   "cell_type": "code",
   "execution_count": 168,
   "metadata": {},
   "outputs": [
    {
     "ename": "TypeError",
     "evalue": "'function' object is not subscriptable",
     "output_type": "error",
     "traceback": [
      "\u001b[0;31m---------------------------------------------------------------------------\u001b[0m",
      "\u001b[0;31mTypeError\u001b[0m                                 Traceback (most recent call last)",
      "\u001b[0;32m<ipython-input-168-ef0bb03f9faf>\u001b[0m in \u001b[0;36m<module>\u001b[0;34m()\u001b[0m\n\u001b[0;32m----> 1\u001b[0;31m \u001b[0mexample\u001b[0m\u001b[0;34m.\u001b[0m\u001b[0mreplace\u001b[0m\u001b[0;34m(\u001b[0m\u001b[0musaddress\u001b[0m\u001b[0;34m.\u001b[0m\u001b[0mtag\u001b[0m\u001b[0;34m[\u001b[0m\u001b[0;36m0\u001b[0m\u001b[0;34m]\u001b[0m\u001b[0;34m[\u001b[0m\u001b[0;34m'AddressNumber'\u001b[0m\u001b[0;34m]\u001b[0m\u001b[0;34m,\u001b[0m \u001b[0;34m'44'\u001b[0m\u001b[0;34m)\u001b[0m\u001b[0;34m\u001b[0m\u001b[0m\n\u001b[0m",
      "\u001b[0;31mTypeError\u001b[0m: 'function' object is not subscriptable"
     ]
    }
   ],
   "source": [
    "example.replace(usaddress.tag[0]['AddressNumber'], '44')"
   ]
  },
  {
   "cell_type": "code",
   "execution_count": null,
   "metadata": {},
   "outputs": [],
   "source": [
    "new"
   ]
  }
 ],
 "metadata": {
  "kernelspec": {
   "display_name": "Python [default]",
   "language": "python",
   "name": "python3"
  },
  "language_info": {
   "codemirror_mode": {
    "name": "ipython",
    "version": 3
   },
   "file_extension": ".py",
   "mimetype": "text/x-python",
   "name": "python",
   "nbconvert_exporter": "python",
   "pygments_lexer": "ipython3",
   "version": "3.6.5"
  }
 },
 "nbformat": 4,
 "nbformat_minor": 2
}
