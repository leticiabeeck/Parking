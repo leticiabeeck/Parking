{
 "cells": [
  {
   "cell_type": "code",
   "execution_count": 1,
   "metadata": {},
   "outputs": [],
   "source": [
    "import pandas as pd\n",
    "import numpy as np"
   ]
  },
  {
   "cell_type": "code",
   "execution_count": 10,
   "metadata": {},
   "outputs": [],
   "source": [
    "df18=pd.read_csv('./City_Service_Requests_in_2018.csv')"
   ]
  },
  {
   "cell_type": "code",
   "execution_count": 11,
   "metadata": {},
   "outputs": [
    {
     "name": "stderr",
     "output_type": "stream",
     "text": [
      "/anaconda3/envs/dsi/lib/python3.6/site-packages/IPython/core/interactiveshell.py:2785: DtypeWarning: Columns (14) have mixed types. Specify dtype option on import or set low_memory=False.\n",
      "  interactivity=interactivity, compiler=compiler, result=result)\n"
     ]
    }
   ],
   "source": [
    "df17=pd.read_csv('./City_Service_Requests_in_2017.csv')"
   ]
  },
  {
   "cell_type": "code",
   "execution_count": 12,
   "metadata": {},
   "outputs": [],
   "source": [
    "df16=pd.read_csv('./City_Service_Requests_in_2016.csv')"
   ]
  },
  {
   "cell_type": "code",
   "execution_count": 13,
   "metadata": {},
   "outputs": [
    {
     "name": "stderr",
     "output_type": "stream",
     "text": [
      "/anaconda3/envs/dsi/lib/python3.6/site-packages/IPython/core/interactiveshell.py:2785: DtypeWarning: Columns (14) have mixed types. Specify dtype option on import or set low_memory=False.\n",
      "  interactivity=interactivity, compiler=compiler, result=result)\n"
     ]
    }
   ],
   "source": [
    "df15=pd.read_csv('./City_Service_Requests_in_2015.csv')"
   ]
  },
  {
   "cell_type": "code",
   "execution_count": 14,
   "metadata": {},
   "outputs": [
    {
     "name": "stderr",
     "output_type": "stream",
     "text": [
      "/anaconda3/envs/dsi/lib/python3.6/site-packages/IPython/core/interactiveshell.py:2785: DtypeWarning: Columns (28) have mixed types. Specify dtype option on import or set low_memory=False.\n",
      "  interactivity=interactivity, compiler=compiler, result=result)\n"
     ]
    }
   ],
   "source": [
    "df14=pd.read_csv('./City_Service_Requests_in_2014.csv')"
   ]
  },
  {
   "cell_type": "code",
   "execution_count": null,
   "metadata": {},
   "outputs": [],
   "source": []
  },
  {
   "cell_type": "code",
   "execution_count": 15,
   "metadata": {},
   "outputs": [
    {
     "data": {
      "text/plain": [
       "Index(['X', 'Y', 'OBJECTID', 'SERVICECODE', 'SERVICECODEDESCRIPTION',\n",
       "       'SERVICETYPECODEDESCRIPTION', 'ORGANIZATIONACRONYM', 'SERVICECALLCOUNT',\n",
       "       'ADDDATE', 'RESOLUTIONDATE', 'SERVICEDUEDATE', 'SERVICEORDERDATE',\n",
       "       'INSPECTIONFLAG', 'INSPECTIONDATE', 'INSPECTORNAME',\n",
       "       'SERVICEORDERSTATUS', 'STATUS_CODE', 'SERVICEREQUESTID', 'PRIORITY',\n",
       "       'STREETADDRESS', 'XCOORD', 'YCOORD', 'LATITUDE', 'LONGITUDE', 'CITY',\n",
       "       'STATE', 'ZIPCODE', 'MARADDRESSREPOSITORYID', 'WARD', 'DETAILS'],\n",
       "      dtype='object')"
      ]
     },
     "execution_count": 15,
     "metadata": {},
     "output_type": "execute_result"
    }
   ],
   "source": []
  },
  {
   "cell_type": "code",
   "execution_count": 19,
   "metadata": {},
   "outputs": [
    {
     "data": {
      "text/plain": [
       "array([ True,  True,  True,  True,  True,  True,  True,  True,  True,\n",
       "        True,  True,  True,  True,  True,  True,  True,  True,  True,\n",
       "        True,  True,  True,  True,  True,  True,  True,  True,  True,\n",
       "        True,  True,  True])"
      ]
     },
     "execution_count": 19,
     "metadata": {},
     "output_type": "execute_result"
    }
   ],
   "source": []
  },
  {
   "cell_type": "code",
   "execution_count": 20,
   "metadata": {},
   "outputs": [],
   "source": [
    "df=pd.concat([df18, df17, df16, df15, df14])"
   ]
  },
  {
   "cell_type": "code",
   "execution_count": 21,
   "metadata": {},
   "outputs": [
    {
     "data": {
      "text/plain": [
       "Index(['X', 'Y', 'OBJECTID', 'SERVICECODE', 'SERVICECODEDESCRIPTION',\n",
       "       'SERVICETYPECODEDESCRIPTION', 'ORGANIZATIONACRONYM', 'SERVICECALLCOUNT',\n",
       "       'ADDDATE', 'RESOLUTIONDATE', 'SERVICEDUEDATE', 'SERVICEORDERDATE',\n",
       "       'INSPECTIONFLAG', 'INSPECTIONDATE', 'INSPECTORNAME',\n",
       "       'SERVICEORDERSTATUS', 'STATUS_CODE', 'SERVICEREQUESTID', 'PRIORITY',\n",
       "       'STREETADDRESS', 'XCOORD', 'YCOORD', 'LATITUDE', 'LONGITUDE', 'CITY',\n",
       "       'STATE', 'ZIPCODE', 'MARADDRESSREPOSITORYID', 'WARD', 'DETAILS'],\n",
       "      dtype='object')"
      ]
     },
     "execution_count": 21,
     "metadata": {},
     "output_type": "execute_result"
    }
   ],
   "source": [
    "df.columns"
   ]
  },
  {
   "cell_type": "code",
   "execution_count": 22,
   "metadata": {},
   "outputs": [
    {
     "data": {
      "text/html": [
       "<div>\n",
       "<style scoped>\n",
       "    .dataframe tbody tr th:only-of-type {\n",
       "        vertical-align: middle;\n",
       "    }\n",
       "\n",
       "    .dataframe tbody tr th {\n",
       "        vertical-align: top;\n",
       "    }\n",
       "\n",
       "    .dataframe thead th {\n",
       "        text-align: right;\n",
       "    }\n",
       "</style>\n",
       "<table border=\"1\" class=\"dataframe\">\n",
       "  <thead>\n",
       "    <tr style=\"text-align: right;\">\n",
       "      <th></th>\n",
       "      <th>X</th>\n",
       "      <th>Y</th>\n",
       "      <th>OBJECTID</th>\n",
       "      <th>SERVICECODE</th>\n",
       "      <th>SERVICECODEDESCRIPTION</th>\n",
       "      <th>SERVICETYPECODEDESCRIPTION</th>\n",
       "      <th>ORGANIZATIONACRONYM</th>\n",
       "      <th>SERVICECALLCOUNT</th>\n",
       "      <th>ADDDATE</th>\n",
       "      <th>RESOLUTIONDATE</th>\n",
       "      <th>...</th>\n",
       "      <th>XCOORD</th>\n",
       "      <th>YCOORD</th>\n",
       "      <th>LATITUDE</th>\n",
       "      <th>LONGITUDE</th>\n",
       "      <th>CITY</th>\n",
       "      <th>STATE</th>\n",
       "      <th>ZIPCODE</th>\n",
       "      <th>MARADDRESSREPOSITORYID</th>\n",
       "      <th>WARD</th>\n",
       "      <th>DETAILS</th>\n",
       "    </tr>\n",
       "  </thead>\n",
       "  <tbody>\n",
       "    <tr>\n",
       "      <th>0</th>\n",
       "      <td>-77.017424</td>\n",
       "      <td>38.943390</td>\n",
       "      <td>308864</td>\n",
       "      <td>S05SL</td>\n",
       "      <td>Streetlight Repair Investigation</td>\n",
       "      <td>Transportation Operations Administration</td>\n",
       "      <td>DDOT</td>\n",
       "      <td>1</td>\n",
       "      <td>2018-01-02T11:19:40.000Z</td>\n",
       "      <td>2018-01-03T20:28:07.000Z</td>\n",
       "      <td>...</td>\n",
       "      <td>398489.710000</td>\n",
       "      <td>141721.240000</td>\n",
       "      <td>38.943383</td>\n",
       "      <td>-77.017422</td>\n",
       "      <td>WASHINGTON</td>\n",
       "      <td>DC</td>\n",
       "      <td>20011.0</td>\n",
       "      <td>248119.0</td>\n",
       "      <td>4</td>\n",
       "      <td>NaN</td>\n",
       "    </tr>\n",
       "    <tr>\n",
       "      <th>1</th>\n",
       "      <td>-77.023320</td>\n",
       "      <td>38.926455</td>\n",
       "      <td>308865</td>\n",
       "      <td>EMNPV</td>\n",
       "      <td>Emergency No-Parking Verification</td>\n",
       "      <td>PEMA- Parking Enforcement Management Administr...</td>\n",
       "      <td>DPW</td>\n",
       "      <td>1</td>\n",
       "      <td>2018-01-03T16:02:18.000Z</td>\n",
       "      <td>2018-01-03T19:24:34.000Z</td>\n",
       "      <td>...</td>\n",
       "      <td>397978.100000</td>\n",
       "      <td>139841.390000</td>\n",
       "      <td>38.926447</td>\n",
       "      <td>-77.023318</td>\n",
       "      <td>WASHINGTON</td>\n",
       "      <td>DC</td>\n",
       "      <td>20001.0</td>\n",
       "      <td>232544.0</td>\n",
       "      <td>1</td>\n",
       "      <td>DPW Officer observed location, signs posted.</td>\n",
       "    </tr>\n",
       "    <tr>\n",
       "      <th>2</th>\n",
       "      <td>-76.977985</td>\n",
       "      <td>38.889474</td>\n",
       "      <td>308866</td>\n",
       "      <td>S0261</td>\n",
       "      <td>Parking Enforcement</td>\n",
       "      <td>PEMA- Parking Enforcement Management Administr...</td>\n",
       "      <td>DPW</td>\n",
       "      <td>1</td>\n",
       "      <td>2018-01-03T18:03:59.000Z</td>\n",
       "      <td>2018-01-03T19:52:35.000Z</td>\n",
       "      <td>...</td>\n",
       "      <td>401910.160000</td>\n",
       "      <td>135736.250000</td>\n",
       "      <td>38.889467</td>\n",
       "      <td>-76.977983</td>\n",
       "      <td>WASHINGTON</td>\n",
       "      <td>DC</td>\n",
       "      <td>20003.0</td>\n",
       "      <td>55281.0</td>\n",
       "      <td>6</td>\n",
       "      <td>dpw officer observed alley way and issued 1 ti...</td>\n",
       "    </tr>\n",
       "    <tr>\n",
       "      <th>3</th>\n",
       "      <td>-77.031953</td>\n",
       "      <td>38.917006</td>\n",
       "      <td>308867</td>\n",
       "      <td>HYPSHEIN</td>\n",
       "      <td>Hypothermia Shelter Information</td>\n",
       "      <td>311- Call Center</td>\n",
       "      <td>OUC</td>\n",
       "      <td>1</td>\n",
       "      <td>2018-01-03T18:40:16.000Z</td>\n",
       "      <td>2018-01-03T18:40:16.000Z</td>\n",
       "      <td>...</td>\n",
       "      <td>397229.130011</td>\n",
       "      <td>138792.679998</td>\n",
       "      <td>38.916998</td>\n",
       "      <td>-77.031951</td>\n",
       "      <td>NaN</td>\n",
       "      <td>NaN</td>\n",
       "      <td>20009.0</td>\n",
       "      <td>903573.0</td>\n",
       "      <td>NaN</td>\n",
       "      <td>NaN</td>\n",
       "    </tr>\n",
       "    <tr>\n",
       "      <th>4</th>\n",
       "      <td>-77.028876</td>\n",
       "      <td>38.924511</td>\n",
       "      <td>308868</td>\n",
       "      <td>S0261</td>\n",
       "      <td>Parking Enforcement</td>\n",
       "      <td>PEMA- Parking Enforcement Management Administr...</td>\n",
       "      <td>DPW</td>\n",
       "      <td>1</td>\n",
       "      <td>2018-01-03T18:09:57.000Z</td>\n",
       "      <td>2018-01-03T18:49:01.000Z</td>\n",
       "      <td>...</td>\n",
       "      <td>397496.260000</td>\n",
       "      <td>139625.720000</td>\n",
       "      <td>38.924503</td>\n",
       "      <td>-77.028874</td>\n",
       "      <td>WASHINGTON</td>\n",
       "      <td>DC</td>\n",
       "      <td>20009.0</td>\n",
       "      <td>231872.0</td>\n",
       "      <td>1</td>\n",
       "      <td>NaN</td>\n",
       "    </tr>\n",
       "  </tbody>\n",
       "</table>\n",
       "<p>5 rows × 30 columns</p>\n",
       "</div>"
      ],
      "text/plain": [
       "           X          Y  OBJECTID SERVICECODE  \\\n",
       "0 -77.017424  38.943390    308864       S05SL   \n",
       "1 -77.023320  38.926455    308865       EMNPV   \n",
       "2 -76.977985  38.889474    308866       S0261   \n",
       "3 -77.031953  38.917006    308867    HYPSHEIN   \n",
       "4 -77.028876  38.924511    308868       S0261   \n",
       "\n",
       "              SERVICECODEDESCRIPTION  \\\n",
       "0   Streetlight Repair Investigation   \n",
       "1  Emergency No-Parking Verification   \n",
       "2                Parking Enforcement   \n",
       "3    Hypothermia Shelter Information   \n",
       "4                Parking Enforcement   \n",
       "\n",
       "                          SERVICETYPECODEDESCRIPTION ORGANIZATIONACRONYM  \\\n",
       "0           Transportation Operations Administration                DDOT   \n",
       "1  PEMA- Parking Enforcement Management Administr...                 DPW   \n",
       "2  PEMA- Parking Enforcement Management Administr...                 DPW   \n",
       "3                                   311- Call Center                 OUC   \n",
       "4  PEMA- Parking Enforcement Management Administr...                 DPW   \n",
       "\n",
       "   SERVICECALLCOUNT                   ADDDATE            RESOLUTIONDATE  \\\n",
       "0                 1  2018-01-02T11:19:40.000Z  2018-01-03T20:28:07.000Z   \n",
       "1                 1  2018-01-03T16:02:18.000Z  2018-01-03T19:24:34.000Z   \n",
       "2                 1  2018-01-03T18:03:59.000Z  2018-01-03T19:52:35.000Z   \n",
       "3                 1  2018-01-03T18:40:16.000Z  2018-01-03T18:40:16.000Z   \n",
       "4                 1  2018-01-03T18:09:57.000Z  2018-01-03T18:49:01.000Z   \n",
       "\n",
       "                         ...                                 XCOORD  \\\n",
       "0                        ...                          398489.710000   \n",
       "1                        ...                          397978.100000   \n",
       "2                        ...                          401910.160000   \n",
       "3                        ...                          397229.130011   \n",
       "4                        ...                          397496.260000   \n",
       "\n",
       "          YCOORD   LATITUDE  LONGITUDE        CITY STATE  ZIPCODE  \\\n",
       "0  141721.240000  38.943383 -77.017422  WASHINGTON    DC  20011.0   \n",
       "1  139841.390000  38.926447 -77.023318  WASHINGTON    DC  20001.0   \n",
       "2  135736.250000  38.889467 -76.977983  WASHINGTON    DC  20003.0   \n",
       "3  138792.679998  38.916998 -77.031951         NaN   NaN  20009.0   \n",
       "4  139625.720000  38.924503 -77.028874  WASHINGTON    DC  20009.0   \n",
       "\n",
       "  MARADDRESSREPOSITORYID WARD  \\\n",
       "0               248119.0    4   \n",
       "1               232544.0    1   \n",
       "2                55281.0    6   \n",
       "3               903573.0  NaN   \n",
       "4               231872.0    1   \n",
       "\n",
       "                                             DETAILS  \n",
       "0                                                NaN  \n",
       "1       DPW Officer observed location, signs posted.  \n",
       "2  dpw officer observed alley way and issued 1 ti...  \n",
       "3                                                NaN  \n",
       "4                                                NaN  \n",
       "\n",
       "[5 rows x 30 columns]"
      ]
     },
     "execution_count": 22,
     "metadata": {},
     "output_type": "execute_result"
    }
   ],
   "source": [
    "df.head()"
   ]
  },
  {
   "cell_type": "code",
   "execution_count": 26,
   "metadata": {},
   "outputs": [],
   "source": [
    "df=df[df['SERVICECODEDESCRIPTION']=='Residential Parking Permit Violation']"
   ]
  },
  {
   "cell_type": "code",
   "execution_count": 27,
   "metadata": {},
   "outputs": [],
   "source": [
    "df.to_pickle('./res_parking_permit_violations')"
   ]
  },
  {
   "cell_type": "code",
   "execution_count": null,
   "metadata": {},
   "outputs": [],
   "source": []
  }
 ],
 "metadata": {
  "kernelspec": {
   "display_name": "Python [default]",
   "language": "python",
   "name": "python3"
  },
  "language_info": {
   "codemirror_mode": {
    "name": "ipython",
    "version": 3
   },
   "file_extension": ".py",
   "mimetype": "text/x-python",
   "name": "python",
   "nbconvert_exporter": "python",
   "pygments_lexer": "ipython3",
   "version": "3.6.5"
  }
 },
 "nbformat": 4,
 "nbformat_minor": 2
}
